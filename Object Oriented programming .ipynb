{
 "cells": [
  {
   "cell_type": "code",
   "execution_count": null,
   "metadata": {},
   "outputs": [],
   "source": [
    "#Object oriented programming ==> way of writing program using objects and classes\n",
    "\n",
    "#Functional pgm or structural programming\n",
    "\n",
    "\n",
    "\n",
    "#advantages:\n",
    "\n",
    "#reusability \n",
    "#abstract method \n",
    "#Data protection or encapsulation\n",
    "#polymorphism"
   ]
  },
  {
   "cell_type": "code",
   "execution_count": null,
   "metadata": {},
   "outputs": [],
   "source": [
    "#class and object ?\n",
    "#attributes and methods ?\n",
    "#class/object attribute/method\n",
    "#how to call a method \n",
    "#self\n",
    "#Constructor\n",
    "#Destructor\n",
    "#static method vs class method\n",
    "\n",
    "\n",
    "\n",
    "#Inheritance\n",
    "#abstract class and abstract method\n",
    "#Method overriding\n",
    "#Super function\n",
    "#encapsulation\n",
    "#polymorphism\n",
    "\n"
   ]
  },
  {
   "cell_type": "code",
   "execution_count": null,
   "metadata": {},
   "outputs": [],
   "source": [
    "#class and object ?\n",
    "\n",
    "\n",
    "#class \n",
    "\n",
    "#blueprint for object/system/environment\n",
    "#Contains attributes and methods\n",
    "\n",
    "#attributes ==> variable inside class\n",
    "#methods ===> function inside class\n",
    "\n",
    "#Object \n",
    "\n",
    "#Instantiation of the class\n",
    "\n",
    "\n",
    "class Admission:\n",
    "    school_name = \"hhhh int school\"\n",
    "    establish = 1989\n",
    "    school_type = \"primary school\"\n",
    "    \n",
    "    def admission_for_kids():\n",
    "        return \"admission done\"\n",
    "    \n",
    "    def mess_facility():\n",
    "        return \"Mess done\"\n",
    "    \n",
    "    def Hostel_faciliyt():\n",
    "        return \"Hostel\"\n",
    "    \n",
    "\n",
    "student1 = Admission(\"raj\", 4, \"15/5/2016\")    \n",
    "student2 = Admission(\"kumar\", 5, \"18/4/2015\")\n",
    "\n",
    "#class attribute\n",
    "#Object attribute\n",
    "\n",
    "\n",
    "\n",
    "    \n",
    "    \n",
    "    "
   ]
  },
  {
   "cell_type": "code",
   "execution_count": 6,
   "metadata": {},
   "outputs": [
    {
     "name": "stdout",
     "output_type": "stream",
     "text": [
      "hhhh int school\n",
      "hhhh int school\n",
      "gggg int school\n",
      "hhhh int school\n",
      "gggg int school\n",
      "vvvv int school\n"
     ]
    }
   ],
   "source": [
    "#How to access class attribute\n",
    "\n",
    "class Admission:\n",
    "    school_name = \"hhhh int school\"\n",
    "    establish = 1989\n",
    "    school_type = \"primary school\"\n",
    "    \n",
    "    def admission_for_kids():\n",
    "        return \"admission done\"\n",
    "    \n",
    "    def mess_facility():\n",
    "        return \"Mess done\"\n",
    "    \n",
    "    def Hostel_faciliyt():\n",
    "        return \"Hostel\"\n",
    "    \n",
    "\n",
    "student1 = Admission()    \n",
    "student2 = Admission()\n",
    "\n",
    "print(student1.school_name)\n",
    "print(Admission.school_name)\n",
    "\n",
    "student1.school_name = \"gggg int school\"\n",
    "\n",
    "print(student1.school_name)\n",
    "print(student2.school_name)\n",
    "\n",
    "Admission.school_name = \"vvvv int school\"\n",
    "\n",
    "print(student1.school_name)\n",
    "print(student2.school_name)"
   ]
  },
  {
   "cell_type": "code",
   "execution_count": 9,
   "metadata": {},
   "outputs": [
    {
     "ename": "TypeError",
     "evalue": "func1() takes 0 positional arguments but 1 was given",
     "output_type": "error",
     "traceback": [
      "\u001b[1;31m---------------------------------------------------------------------------\u001b[0m",
      "\u001b[1;31mTypeError\u001b[0m                                 Traceback (most recent call last)",
      "\u001b[1;32m<ipython-input-9-835e961fd4e4>\u001b[0m in \u001b[0;36m<module>\u001b[1;34m\u001b[0m\n\u001b[0;32m      2\u001b[0m     \u001b[1;32mreturn\u001b[0m \u001b[1;34m\"function check\"\u001b[0m\u001b[1;33m\u001b[0m\u001b[1;33m\u001b[0m\u001b[0m\n\u001b[0;32m      3\u001b[0m \u001b[1;33m\u001b[0m\u001b[0m\n\u001b[1;32m----> 4\u001b[1;33m \u001b[0mprint\u001b[0m\u001b[1;33m(\u001b[0m\u001b[0mfunc1\u001b[0m\u001b[1;33m(\u001b[0m\u001b[1;34m\"hello\"\u001b[0m\u001b[1;33m)\u001b[0m\u001b[1;33m)\u001b[0m\u001b[1;33m\u001b[0m\u001b[1;33m\u001b[0m\u001b[0m\n\u001b[0m",
      "\u001b[1;31mTypeError\u001b[0m: func1() takes 0 positional arguments but 1 was given"
     ]
    }
   ],
   "source": [
    "def func1():\n",
    "    return \"function check\"\n",
    "\n",
    "print(func1(\"hello\"))"
   ]
  },
  {
   "cell_type": "code",
   "execution_count": 10,
   "metadata": {},
   "outputs": [
    {
     "name": "stdout",
     "output_type": "stream",
     "text": [
      "admission done\n"
     ]
    }
   ],
   "source": [
    "#How to access a method:\n",
    "\n",
    "class Admission:\n",
    "    school_name = \"hhhh int school\"\n",
    "    establish = 1989\n",
    "    school_type = \"primary school\"\n",
    "    \n",
    "    def admission_for_kids(self):\n",
    "        return \"admission done\"\n",
    "    \n",
    "    def mess_facility(self):\n",
    "        return \"Mess done\"\n",
    "    \n",
    "    def Hostel_faciliyt(self):\n",
    "        return \"Hostel\"\n",
    "    \n",
    "    \n",
    "std1 = Admission()\n",
    "print(std1.admission_for_kids())\n",
    "#print(Admission.admission_for_kids(std1))"
   ]
  },
  {
   "cell_type": "code",
   "execution_count": 12,
   "metadata": {},
   "outputs": [
    {
     "data": {
      "text/plain": [
       "'admission done rrr'"
      ]
     },
     "execution_count": 12,
     "metadata": {},
     "output_type": "execute_result"
    }
   ],
   "source": [
    "#Constructor\n",
    "\n",
    "\n",
    "class Admission:\n",
    "    school_name = \"hhhh int school\"\n",
    "    establish = 1989\n",
    "    school_type = \"primary school\"\n",
    "    \n",
    "    def __init__(self, name, age, DOB):\n",
    "        self.name = name\n",
    "        self.age = age\n",
    "        self.DOB = DOB\n",
    "    \n",
    "    def admission_for_kids(self):\n",
    "        return \"admission done\" + \" \" + self.name\n",
    "    \n",
    "    def mess_facility(self):\n",
    "        return \"Mess done\"\n",
    "    \n",
    "    def Hostel_faciliyt(self):\n",
    "        return \"Hostel\"\n",
    "    \n",
    "    \n",
    "std1 = Admission(\"rrr\", 4, 1112015)\n",
    "\n",
    "std2 = Admission(\"gggg\", 5, 4122016)\n",
    "\n",
    "std3 = Admission(\"gokul\", 6, 1212214)\n",
    "\n",
    "std1.admission_for_kids()"
   ]
  },
  {
   "cell_type": "code",
   "execution_count": 14,
   "metadata": {},
   "outputs": [
    {
     "data": {
      "text/plain": [
       "'feed back process'"
      ]
     },
     "execution_count": 14,
     "metadata": {},
     "output_type": "execute_result"
    }
   ],
   "source": [
    "#Static method vs class method\n",
    "\n",
    "\n",
    "class Admission:\n",
    "    school_name = \"hhhh int school\"\n",
    "    establish = 1989\n",
    "    school_type = \"primary school\"\n",
    "    \n",
    "    def __init__(self, name, age, DOB):\n",
    "        self.name = name\n",
    "        self.age = age\n",
    "        self.DOB = DOB\n",
    "    \n",
    "    def admission_for_kids(self):\n",
    "        return \"admission done\" + \" \" + self.name\n",
    "    \n",
    "    def mess_facility(self):\n",
    "        return \"Mess done\"\n",
    "    \n",
    "    def Hostel_faciliyt(self):\n",
    "        return \"Hostel\"\n",
    "    \n",
    "    @staticmethod\n",
    "    def feedback():\n",
    "        return \"feed back process\"\n",
    "    \n",
    "    \n",
    "std1 = Admission(\"rrr\", 4, 1112015)\n",
    "\n",
    "std2 = Admission(\"gggg\", 5, 4122016)\n",
    "\n",
    "std3 = Admission(\"gokul\", 6, 1212214)\n",
    "\n",
    "std1.admission_for_kids()\n",
    "std1.feedback()"
   ]
  },
  {
   "cell_type": "code",
   "execution_count": 18,
   "metadata": {},
   "outputs": [
    {
     "data": {
      "text/plain": [
       "'feed back process done hhhh int school'"
      ]
     },
     "execution_count": 18,
     "metadata": {},
     "output_type": "execute_result"
    }
   ],
   "source": [
    "class Admission:\n",
    "    school_name = \"hhhh int school\"\n",
    "    establish = 1989\n",
    "    school_type = \"primary school\"\n",
    "    \n",
    "    def __init__(self, name, age, DOB):\n",
    "        self.name = name\n",
    "        self.age = age\n",
    "        self.DOB = DOB\n",
    "    \n",
    "    def admission_for_kids(self):\n",
    "        return \"admission done\" + \" \" + self.name\n",
    "    \n",
    "    def mess_facility(self):\n",
    "        return \"Mess done\"\n",
    "    \n",
    "    def Hostel_faciliyt(self):\n",
    "        return \"Hostel\"\n",
    "    \n",
    "    @classmethod\n",
    "    def feedback(self):\n",
    "        return \"feed back process done \" + self.school_name\n",
    "    \n",
    "    \n",
    "std1 = Admission(\"rrr\", 4, 1112015)\n",
    "\n",
    "std2 = Admission(\"gggg\", 5, 4122016)\n",
    "\n",
    "std3 = Admission(\"gokul\", 6, 1212214)\n",
    "\n",
    "std1.admission_for_kids()\n",
    "std1.feedback()"
   ]
  },
  {
   "cell_type": "code",
   "execution_count": null,
   "metadata": {},
   "outputs": [],
   "source": []
  }
 ],
 "metadata": {
  "kernelspec": {
   "display_name": "Python 3",
   "language": "python",
   "name": "python3"
  },
  "language_info": {
   "codemirror_mode": {
    "name": "ipython",
    "version": 3
   },
   "file_extension": ".py",
   "mimetype": "text/x-python",
   "name": "python",
   "nbconvert_exporter": "python",
   "pygments_lexer": "ipython3",
   "version": "3.7.6"
  }
 },
 "nbformat": 4,
 "nbformat_minor": 4
}
