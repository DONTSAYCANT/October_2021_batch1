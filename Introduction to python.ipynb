{
 "cells": [
  {
   "cell_type": "code",
   "execution_count": null,
   "metadata": {},
   "outputs": [],
   "source": [
    "1. Python IDLE 3.8\n",
    "\n",
    "2. Hackerrank.com Signup\n",
    "\n",
    "3. github ===> version controlled\n",
    "https://github.com/DONTSAYCANT  ===> signup + create repo\n",
    "    \n",
    "4. mail ===> group\n"
   ]
  },
  {
   "cell_type": "code",
   "execution_count": null,
   "metadata": {},
   "outputs": [],
   "source": [
    "Programming ===>\n",
    "\n",
    "set of statements to system \n",
    "\n",
    "regression ===> scripts \n",
    "\n",
    "10 am ==> 100 scritp 200 \n",
    "\n",
    "pass ===> keywords\n",
    "\n",
    "fail ===> keywords \n",
    "\n",
    "automation\n",
    "\n",
    "python ===> ?\n",
    "\n",
    "development ==> python, java\n",
    "datascience ===> R python javascript\n",
    "QA ==> java python perl\n",
    "devops ==> groovy python shell\n",
    "\n"
   ]
  },
  {
   "cell_type": "code",
   "execution_count": null,
   "metadata": {},
   "outputs": [],
   "source": [
    "#Advantages:\n",
    "\n",
    "1) \n",
    "\n",
    "dynamic typing\n",
    "\n",
    "int a = 10;\n",
    "a = 10\n",
    "b = 10.99\n",
    "\n",
    "\n",
    "2) \n",
    "\n",
    "function fibo{\n",
    "    int a = 10;\n",
    "    return a;\n",
    "}\n",
    "\n",
    "Number of lines and time for programming is less\n",
    "\n",
    "3. Indentation {}\n",
    "\n",
    "100 line of code perl c\n",
    "70 lines\n",
    "\n",
    "4. normal english\n"
   ]
  },
  {
   "cell_type": "code",
   "execution_count": 1,
   "metadata": {},
   "outputs": [
    {
     "name": "stdout",
     "output_type": "stream",
     "text": [
      "30\n"
     ]
    }
   ],
   "source": [
    "a = 10\n",
    "b = 20\n",
    "\n",
    "print(a+b)"
   ]
  },
  {
   "cell_type": "code",
   "execution_count": 4,
   "metadata": {},
   "outputs": [
    {
     "ename": "SyntaxError",
     "evalue": "invalid syntax (<ipython-input-4-aece8426c248>, line 1)",
     "output_type": "error",
     "traceback": [
      "\u001b[1;36m  File \u001b[1;32m\"<ipython-input-4-aece8426c248>\"\u001b[1;36m, line \u001b[1;32m1\u001b[0m\n\u001b[1;33m    10a = 10\u001b[0m\n\u001b[1;37m      ^\u001b[0m\n\u001b[1;31mSyntaxError\u001b[0m\u001b[1;31m:\u001b[0m invalid syntax\n"
     ]
    }
   ],
   "source": [
    "10a = 10\n",
    "print(a)"
   ]
  },
  {
   "cell_type": "code",
   "execution_count": null,
   "metadata": {},
   "outputs": [],
   "source": []
  },
  {
   "cell_type": "code",
   "execution_count": null,
   "metadata": {},
   "outputs": [],
   "source": [
    "#programming terms\n",
    "\n",
    "#variables\n",
    "\n",
    "variable ==> container for data\n",
    "Rules for creating variables in python\n",
    "\n",
    "\n",
    "#keywords or reserved \n",
    "\n",
    "https://realpython.com/python-keywords/\n",
    "\n",
    "if for def class import \n",
    "\n",
    "variable creation\n",
    "function creation\n",
    "class creation\n",
    "\n",
    "\n",
    "\n",
    "#data types\n",
    "\n",
    "float ===> 10.99, -0.222, 10.0\n",
    "int ==> 1000000, -22, 30, 0\n",
    "boolean ==> True False conditional statement deciders\n",
    "int float char string boolean complex ==> type of data \n",
    "\n",
    "\n",
    "#operators ==> mathematical\n",
    "#data strucutre\n",
    "\n",
    "#functions\n",
    "#modules or libraries\n",
    "\n"
   ]
  },
  {
   "cell_type": "code",
   "execution_count": 9,
   "metadata": {},
   "outputs": [
    {
     "name": "stdout",
     "output_type": "stream",
     "text": [
      "15\n",
      "5\n",
      "50\n",
      "1000\n",
      "2.0\n",
      "1\n",
      "3\n",
      "-4\n",
      "3\n"
     ]
    }
   ],
   "source": [
    "#Mathematics\n",
    "\n",
    "\n",
    "\n",
    "print(10+5)\n",
    "print(10-5)\n",
    "print(10*5)\n",
    "\n",
    "\n",
    "print(10**3) #power operator\n",
    "print(10/5) #Normal divi\n",
    "print(10%3) #%modulo\n",
    "\n",
    "print(10//3) #floor div\n",
    "print(-10//3)\n",
    "print(39//10)\n",
    "\n",
    "#-4 -3 -2 -1 0 1 2 3 4 \n",
    "\n",
    "\n"
   ]
  },
  {
   "cell_type": "code",
   "execution_count": null,
   "metadata": {},
   "outputs": [],
   "source": [
    "\n",
    "#Function ===> inbuilt funtion or user def function\n",
    "\n",
    "#function def ===> operation \n",
    "#function call \n",
    "\n",
    "\n",
    "\n",
    "#100 ==> same 5 lines 5 time"
   ]
  },
  {
   "cell_type": "code",
   "execution_count": 17,
   "metadata": {},
   "outputs": [
    {
     "name": "stdout",
     "output_type": "stream",
     "text": [
      "hellow\n",
      "python\n",
      "python\n",
      "I'm fine\n",
      "hello world\n",
      "welcome to python\n",
      "world\n",
      "hello world\n",
      "welcome to python\n",
      "world\n"
     ]
    }
   ],
   "source": [
    "#print\n",
    "print(\"hellow\")\n",
    "print(\"python\")\n",
    "print('python')\n",
    "\n",
    "print(\"I'm fine\")\n",
    "\n",
    "print('''hello world\n",
    "welcome to python\n",
    "world''')\n",
    "\n",
    "print(\"\"\"hello world\n",
    "welcome to python\n",
    "world\"\"\")\n",
    "\n"
   ]
  },
  {
   "cell_type": "code",
   "execution_count": 18,
   "metadata": {},
   "outputs": [
    {
     "name": "stdout",
     "output_type": "stream",
     "text": [
      "python\n",
      "hello world\n",
      "python\n",
      "hello world\n"
     ]
    }
   ],
   "source": [
    "#comments ===> single line comment and multi line comment or doc strings\n",
    "\n",
    "#This variable is for this purpose\n",
    "#This\n",
    "#this\n",
    "print(\"python\")\n",
    "print(\"hello world\")\n",
    "\n",
    "'''\n",
    "This function is for calcluating addition\n",
    "Input: a and b\n",
    "Output: sum value\n",
    "'''\n",
    "print(\"python\")\n",
    "print(\"hello world\")\n"
   ]
  },
  {
   "cell_type": "code",
   "execution_count": 10,
   "metadata": {},
   "outputs": [
    {
     "name": "stdout",
     "output_type": "stream",
     "text": [
      "python\n",
      "hello\n"
     ]
    },
    {
     "data": {
      "text/plain": [
       "'hello world'"
      ]
     },
     "execution_count": 10,
     "metadata": {},
     "output_type": "execute_result"
    }
   ],
   "source": [
    "def function_python():\n",
    "    print(\"python\")\n",
    "    print(\"hello\")\n",
    "    return \"hello world\"\n",
    "\n",
    "function_python()"
   ]
  },
  {
   "cell_type": "code",
   "execution_count": 23,
   "metadata": {},
   "outputs": [
    {
     "name": "stdout",
     "output_type": "stream",
     "text": [
      "<class 'int'>\n",
      "99999\n",
      "<class 'str'>\n"
     ]
    }
   ],
   "source": [
    "#print\n",
    "\n",
    "#type\n",
    "\n",
    "#data type\n",
    "\n",
    "#int\n",
    "#float\n",
    "#string \n",
    "#char\n",
    "#boolean\n",
    "\n",
    "a = 10\n",
    "\n",
    "print(type(a))\n",
    "\n",
    "#Identifying data type or data structure\n",
    "\n",
    "b = 10.9999\n",
    "b = False\n",
    "b = \"10.00\"\n",
    "b = \"99999\"\n",
    "\n",
    "print(b)\n",
    "print(type(b))\n",
    "\n",
    "#' ' or \" \" ===> string ==> global datatype in python\n",
    "\n"
   ]
  },
  {
   "cell_type": "code",
   "execution_count": null,
   "metadata": {},
   "outputs": [],
   "source": [
    "#Compiler and Interpreter\n",
    "\n",
    "IDE"
   ]
  },
  {
   "cell_type": "code",
   "execution_count": 24,
   "metadata": {},
   "outputs": [
    {
     "name": "stdout",
     "output_type": "stream",
     "text": [
      "30\n"
     ]
    }
   ],
   "source": [
    "#program1\n",
    "a = 10\n",
    "b = 20\n",
    "\n",
    "print(a+b)"
   ]
  },
  {
   "cell_type": "code",
   "execution_count": 27,
   "metadata": {},
   "outputs": [
    {
     "ename": "SyntaxError",
     "evalue": "invalid syntax (<ipython-input-27-e44eb4f87a78>, line 17)",
     "output_type": "error",
     "traceback": [
      "\u001b[1;36m  File \u001b[1;32m\"<ipython-input-27-e44eb4f87a78>\"\u001b[1;36m, line \u001b[1;32m17\u001b[0m\n\u001b[1;33m    10a = \"False\"\u001b[0m\n\u001b[1;37m      ^\u001b[0m\n\u001b[1;31mSyntaxError\u001b[0m\u001b[1;31m:\u001b[0m invalid syntax\n"
     ]
    }
   ],
   "source": [
    "#rules for creating variable\n",
    "\n",
    "#case sensitive\n",
    "a = 10\n",
    "A = 20\n",
    "\n",
    "print(a)\n",
    "\n",
    "#it wont allow special char except _\n",
    "\n",
    "\n",
    "#alphabet or _\n",
    "\n",
    "a10 = \"False\"\n",
    "print(a10)\n",
    "\n",
    "10a = \"False\"\n",
    "print(10a)\n",
    "\n",
    "#key word"
   ]
  },
  {
   "cell_type": "code",
   "execution_count": null,
   "metadata": {},
   "outputs": [],
   "source": [
    "#key word\n",
    "\n",
    "#if \n",
    "#for \n",
    "#while \n",
    "\n",
    "#PEP ==< python enhancement proposal"
   ]
  },
  {
   "cell_type": "code",
   "execution_count": null,
   "metadata": {},
   "outputs": [],
   "source": [
    "\n",
    "#Area circle ==> pi *(r * r)\n",
    "#perimater of circle ===> 2 * pi * r\n",
    "\n",
    "r = 10\n",
    "pi = 3.14\n"
   ]
  },
  {
   "cell_type": "code",
   "execution_count": 28,
   "metadata": {},
   "outputs": [
    {
     "name": "stdout",
     "output_type": "stream",
     "text": [
      "<class 'float'>\n"
     ]
    }
   ],
   "source": [
    "#type and data type\n",
    "\n",
    "a = 10.00\n",
    "\n",
    "print(type(a))\n",
    "\n",
    "b = int(a) #converting something in to integer\n",
    "\n",
    "#float\n",
    "#str\n",
    "#bool"
   ]
  },
  {
   "cell_type": "code",
   "execution_count": 29,
   "metadata": {},
   "outputs": [
    {
     "name": "stdout",
     "output_type": "stream",
     "text": [
      "True\n",
      "<class 'bool'>\n"
     ]
    }
   ],
   "source": [
    "a = \"good\"\n",
    "\n",
    "b = bool(a)\n",
    "\n",
    "print(b)\n",
    "print(type(b))"
   ]
  },
  {
   "cell_type": "code",
   "execution_count": 1,
   "metadata": {},
   "outputs": [
    {
     "name": "stdout",
     "output_type": "stream",
     "text": [
      "True\n"
     ]
    }
   ],
   "source": [
    "a = 10\n",
    "\n",
    "b = bool(a)\n",
    "\n",
    "print(b)"
   ]
  },
  {
   "cell_type": "code",
   "execution_count": 4,
   "metadata": {},
   "outputs": [
    {
     "name": "stdout",
     "output_type": "stream",
     "text": [
      "True\n"
     ]
    }
   ],
   "source": [
    "a = \"python\"\n",
    "\n",
    "#print(int(a))\n",
    "#print(float(a))\n",
    "print(bool(a))"
   ]
  },
  {
   "cell_type": "code",
   "execution_count": 7,
   "metadata": {},
   "outputs": [
    {
     "name": "stdout",
     "output_type": "stream",
     "text": [
      "1\n",
      "1.0\n",
      "True\n"
     ]
    }
   ],
   "source": [
    "a = True\n",
    "\n",
    "print(int(a))\n",
    "print(float(a))\n",
    "print(str(a))"
   ]
  },
  {
   "cell_type": "code",
   "execution_count": null,
   "metadata": {},
   "outputs": [],
   "source": [
    "#input function\n",
    "\n",
    "https://www.w3schools.com/python/python_ref_functions.asp\n",
    "https://docs.python.org/3/library/functions.html\n"
   ]
  },
  {
   "cell_type": "code",
   "execution_count": 10,
   "metadata": {},
   "outputs": [
    {
     "name": "stdout",
     "output_type": "stream",
     "text": [
      "please enter a value: 10.00\n",
      "10.00\n",
      "<class 'str'>\n"
     ]
    }
   ],
   "source": [
    "a = 100\n",
    "\n",
    "#input \n",
    "\n",
    "b = input(\"please enter a value: \")\n",
    "\n",
    "print(b)\n",
    "print(type(b))\n",
    "\n",
    "#input ==> default data type string ===> string is global datatype"
   ]
  },
  {
   "cell_type": "code",
   "execution_count": 12,
   "metadata": {},
   "outputs": [
    {
     "name": "stdout",
     "output_type": "stream",
     "text": [
      "please enter an integerpython\n"
     ]
    },
    {
     "ename": "ValueError",
     "evalue": "invalid literal for int() with base 10: 'python'",
     "output_type": "error",
     "traceback": [
      "\u001b[1;31m---------------------------------------------------------------------------\u001b[0m",
      "\u001b[1;31mValueError\u001b[0m                                Traceback (most recent call last)",
      "\u001b[1;32m<ipython-input-12-02255cfb409d>\u001b[0m in \u001b[0;36m<module>\u001b[1;34m\u001b[0m\n\u001b[1;32m----> 1\u001b[1;33m \u001b[0mc\u001b[0m \u001b[1;33m=\u001b[0m \u001b[0mint\u001b[0m\u001b[1;33m(\u001b[0m\u001b[0minput\u001b[0m\u001b[1;33m(\u001b[0m\u001b[1;34m\"please enter an integer\"\u001b[0m\u001b[1;33m)\u001b[0m\u001b[1;33m)\u001b[0m\u001b[1;33m\u001b[0m\u001b[1;33m\u001b[0m\u001b[0m\n\u001b[0m\u001b[0;32m      2\u001b[0m \u001b[1;33m\u001b[0m\u001b[0m\n\u001b[0;32m      3\u001b[0m \u001b[0mprint\u001b[0m\u001b[1;33m(\u001b[0m\u001b[0mc\u001b[0m\u001b[1;33m)\u001b[0m\u001b[1;33m\u001b[0m\u001b[1;33m\u001b[0m\u001b[0m\n",
      "\u001b[1;31mValueError\u001b[0m: invalid literal for int() with base 10: 'python'"
     ]
    }
   ],
   "source": [
    "c = int(input(\"please enter an integer\"))\n",
    "d = float(input(\"please enter a float value\"))\n",
    "e = bool(input(\"please entera bool val\"))\n",
    "\n",
    "\n",
    "print(c)"
   ]
  },
  {
   "cell_type": "code",
   "execution_count": 15,
   "metadata": {},
   "outputs": [
    {
     "name": "stdout",
     "output_type": "stream",
     "text": [
      "The output of above calculation (a+b)*(a-b) is, -300\n"
     ]
    }
   ],
   "source": [
    "#format function\n",
    "\n",
    "\n",
    "a = 10\n",
    "b = 20\n",
    "\n",
    "c  = (a+b)*(a-b)\n",
    "\n",
    "print(\"The output of above calculation (a+b)*(a-b) is,\",c)"
   ]
  },
  {
   "cell_type": "code",
   "execution_count": 18,
   "metadata": {},
   "outputs": [
    {
     "name": "stdout",
     "output_type": "stream",
     "text": [
      "The multiplication of 10 and 20 is 200\n",
      "The multiplication of 10 and 20 is 200\n",
      "The multiplication of 20 and 10 is 200\n"
     ]
    }
   ],
   "source": [
    "a = 10\n",
    "b = 20\n",
    "\n",
    "c = a * b\n",
    "\n",
    "print(\"The multiplication of {} and {} is {}\".format(a,b,c))\n",
    "\n",
    "print(\"The multiplication of {0} and {1} is {2}\".format(a,b,c))\n",
    "\n",
    "print(\"The multiplication of {1} and {0} is {2}\".format(a,b,c))"
   ]
  },
  {
   "cell_type": "code",
   "execution_count": 19,
   "metadata": {},
   "outputs": [
    {
     "name": "stdout",
     "output_type": "stream",
     "text": [
      "The output of above calculation (10+20)*(10-20) is, -300\n"
     ]
    }
   ],
   "source": [
    "\n",
    "a = 10\n",
    "b = 20\n",
    "\n",
    "#calculation of the value\n",
    "c  = (a+b)*(a-b)\n",
    "\n",
    "print(\"The output of above calculation ({}+{})*({}-{}) is, {}\".format(a,b,a,b,c))"
   ]
  },
  {
   "cell_type": "code",
   "execution_count": null,
   "metadata": {},
   "outputs": [],
   "source": []
  }
 ],
 "metadata": {
  "kernelspec": {
   "display_name": "Python 3",
   "language": "python",
   "name": "python3"
  },
  "language_info": {
   "codemirror_mode": {
    "name": "ipython",
    "version": 3
   },
   "file_extension": ".py",
   "mimetype": "text/x-python",
   "name": "python",
   "nbconvert_exporter": "python",
   "pygments_lexer": "ipython3",
   "version": "3.7.6"
  }
 },
 "nbformat": 4,
 "nbformat_minor": 4
}
