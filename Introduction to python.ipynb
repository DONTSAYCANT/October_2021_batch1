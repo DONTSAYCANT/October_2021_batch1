{
 "cells": [
  {
   "cell_type": "code",
   "execution_count": null,
   "metadata": {},
   "outputs": [],
   "source": [
    "1. Python IDLE 3.8\n",
    "\n",
    "2. Hackerrank.com Signup\n",
    "\n",
    "3. github ===> version controlled\n",
    "https://github.com/DONTSAYCANT  ===> signup + create repo\n",
    "    \n",
    "4. mail ===> group\n"
   ]
  },
  {
   "cell_type": "code",
   "execution_count": null,
   "metadata": {},
   "outputs": [],
   "source": [
    "Programming ===>\n",
    "\n",
    "set of statements to system \n",
    "\n",
    "regression ===> scripts \n",
    "\n",
    "10 am ==> 100 scritp 200 \n",
    "\n",
    "pass ===> keywords\n",
    "\n",
    "fail ===> keywords \n",
    "\n",
    "automation\n",
    "\n",
    "python ===> ?\n",
    "\n",
    "development ==> python, java\n",
    "datascience ===> R python javascript\n",
    "QA ==> java python perl\n",
    "devops ==> groovy python shell\n",
    "\n"
   ]
  },
  {
   "cell_type": "code",
   "execution_count": null,
   "metadata": {},
   "outputs": [],
   "source": [
    "#Advantages:\n",
    "\n",
    "1) \n",
    "\n",
    "dynamic typing\n",
    "\n",
    "int a = 10;\n",
    "a = 10\n",
    "b = 10.99\n",
    "\n",
    "\n",
    "2) \n",
    "\n",
    "function fibo{\n",
    "    int a = 10;\n",
    "    return a;\n",
    "}\n",
    "\n",
    "Number of lines and time for programming is less\n",
    "\n",
    "3. Indentation {}\n",
    "\n",
    "100 line of code perl c\n",
    "70 lines\n",
    "\n",
    "4. normal english\n"
   ]
  },
  {
   "cell_type": "code",
   "execution_count": 1,
   "metadata": {},
   "outputs": [
    {
     "name": "stdout",
     "output_type": "stream",
     "text": [
      "30\n"
     ]
    }
   ],
   "source": [
    "a = 10\n",
    "b = 20\n",
    "\n",
    "print(a+b)"
   ]
  },
  {
   "cell_type": "code",
   "execution_count": 4,
   "metadata": {},
   "outputs": [
    {
     "ename": "SyntaxError",
     "evalue": "invalid syntax (<ipython-input-4-aece8426c248>, line 1)",
     "output_type": "error",
     "traceback": [
      "\u001b[1;36m  File \u001b[1;32m\"<ipython-input-4-aece8426c248>\"\u001b[1;36m, line \u001b[1;32m1\u001b[0m\n\u001b[1;33m    10a = 10\u001b[0m\n\u001b[1;37m      ^\u001b[0m\n\u001b[1;31mSyntaxError\u001b[0m\u001b[1;31m:\u001b[0m invalid syntax\n"
     ]
    }
   ],
   "source": [
    "10a = 10\n",
    "print(a)"
   ]
  },
  {
   "cell_type": "code",
   "execution_count": null,
   "metadata": {},
   "outputs": [],
   "source": []
  },
  {
   "cell_type": "code",
   "execution_count": null,
   "metadata": {},
   "outputs": [],
   "source": [
    "#programming terms\n",
    "\n",
    "#variables\n",
    "\n",
    "variable ==> container for data\n",
    "Rules for creating variables in python\n",
    "\n",
    "\n",
    "#keywords or reserved \n",
    "\n",
    "https://realpython.com/python-keywords/\n",
    "\n",
    "if for def class import \n",
    "\n",
    "variable creation\n",
    "function creation\n",
    "class creation\n",
    "\n",
    "\n",
    "\n",
    "#data types\n",
    "\n",
    "float ===> 10.99, -0.222, 10.0\n",
    "int ==> 1000000, -22, 30, 0\n",
    "boolean ==> True False conditional statement deciders\n",
    "int float char string boolean complex ==> type of data \n",
    "\n",
    "\n",
    "#operators ==> mathematical\n",
    "#data strucutre\n",
    "\n",
    "#functions\n",
    "#modules or libraries\n",
    "\n"
   ]
  },
  {
   "cell_type": "code",
   "execution_count": 9,
   "metadata": {},
   "outputs": [
    {
     "name": "stdout",
     "output_type": "stream",
     "text": [
      "15\n",
      "5\n",
      "50\n",
      "1000\n",
      "2.0\n",
      "1\n",
      "3\n",
      "-4\n",
      "3\n"
     ]
    }
   ],
   "source": [
    "#Mathematics\n",
    "\n",
    "\n",
    "\n",
    "print(10+5)\n",
    "print(10-5)\n",
    "print(10*5)\n",
    "\n",
    "\n",
    "print(10**3) #power operator\n",
    "print(10/5) #Normal divi\n",
    "print(10%3) #%modulo\n",
    "\n",
    "print(10//3) #floor div\n",
    "print(-10//3)\n",
    "print(39//10)\n",
    "\n",
    "#-4 -3 -2 -1 0 1 2 3 4 \n",
    "\n",
    "\n"
   ]
  },
  {
   "cell_type": "code",
   "execution_count": null,
   "metadata": {},
   "outputs": [],
   "source": []
  },
  {
   "cell_type": "code",
   "execution_count": null,
   "metadata": {},
   "outputs": [],
   "source": []
  },
  {
   "cell_type": "code",
   "execution_count": null,
   "metadata": {},
   "outputs": [],
   "source": []
  },
  {
   "cell_type": "code",
   "execution_count": null,
   "metadata": {},
   "outputs": [],
   "source": []
  }
 ],
 "metadata": {
  "kernelspec": {
   "display_name": "Python 3",
   "language": "python",
   "name": "python3"
  },
  "language_info": {
   "codemirror_mode": {
    "name": "ipython",
    "version": 3
   },
   "file_extension": ".py",
   "mimetype": "text/x-python",
   "name": "python",
   "nbconvert_exporter": "python",
   "pygments_lexer": "ipython3",
   "version": "3.7.6"
  }
 },
 "nbformat": 4,
 "nbformat_minor": 4
}
