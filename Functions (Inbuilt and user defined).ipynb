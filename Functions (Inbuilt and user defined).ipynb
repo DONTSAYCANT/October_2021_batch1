{
 "cells": [
  {
   "cell_type": "code",
   "execution_count": null,
   "metadata": {},
   "outputs": [],
   "source": [
    "#Functions\n",
    "\n",
    "#1000 \n",
    "\n",
    "#space/storage/time\n",
    "\n",
    "\n",
    "#For reducing repetitive code in the main program\n",
    "\n",
    "#inbuilt function\n",
    "#User def functions\n",
    "\n",
    "\n",
    "#Function call\n",
    "#Function def\n",
    "#parameter or argument\n",
    "#return \n",
    "#optional parameter\n"
   ]
  },
  {
   "cell_type": "code",
   "execution_count": 1,
   "metadata": {},
   "outputs": [
    {
     "name": "stdout",
     "output_type": "stream",
     "text": [
      "hello\n"
     ]
    }
   ],
   "source": [
    "print(\"hello\") #function call"
   ]
  },
  {
   "cell_type": "code",
   "execution_count": 4,
   "metadata": {},
   "outputs": [
    {
     "name": "stdout",
     "output_type": "stream",
     "text": [
      "The argument 3 is  10\n",
      "pngy\n"
     ]
    }
   ],
   "source": [
    "def function_explanation(arg1, arg2,arg4): #function definition\n",
    "    arg3 = arg1[0] + arg1[-1] + arg2[0] + arg2[-1]\n",
    "    print(\"The argument 3 is \", arg4)\n",
    "    return arg3\n",
    "\n",
    "print(function_explanation(\"python\",\"groovy\",10))"
   ]
  },
  {
   "cell_type": "code",
   "execution_count": 7,
   "metadata": {},
   "outputs": [
    {
     "name": "stdout",
     "output_type": "stream",
     "text": [
      "(15, 5, 50, 2.0)\n"
     ]
    }
   ],
   "source": [
    "def sum_sub(val1,val2):\n",
    "    return val1+val2 , val1-val2, val1*val2, val1/val2\n",
    "\n",
    "print(sum_sub(10,5))\n",
    "\n"
   ]
  },
  {
   "cell_type": "code",
   "execution_count": 11,
   "metadata": {},
   "outputs": [
    {
     "name": "stdout",
     "output_type": "stream",
     "text": [
      "2099\n",
      "None\n",
      "pn\n",
      "None\n"
     ]
    }
   ],
   "source": [
    "def list_arg(val):\n",
    "    print(val[0]+val[-1])\n",
    "\n",
    "print(list_arg([100,200,300,1200,500,1999]))\n",
    "print(list_arg(\"python\"))\n",
    "#print(list_arg(100))"
   ]
  },
  {
   "cell_type": "code",
   "execution_count": null,
   "metadata": {},
   "outputs": [],
   "source": [
    "#return:\n",
    "\n",
    "last line executed by the program\n",
    "#by default: none"
   ]
  },
  {
   "cell_type": "code",
   "execution_count": 14,
   "metadata": {},
   "outputs": [
    {
     "name": "stdout",
     "output_type": "stream",
     "text": [
      "hello\thello1\n",
      "\n",
      "hello2\n"
     ]
    }
   ],
   "source": [
    "print(\"hello\", end=\"\\t\")\n",
    "print(\"hello1\",end=\"\\n\\n\")\n",
    "print(\"hello2\")"
   ]
  },
  {
   "cell_type": "code",
   "execution_count": 15,
   "metadata": {},
   "outputs": [
    {
     "name": "stdout",
     "output_type": "stream",
     "text": [
      "hello**4**5**6**world\n"
     ]
    }
   ],
   "source": [
    "print(\"hello\",4,5,6,\"world\",sep=\"**\")"
   ]
  },
  {
   "cell_type": "code",
   "execution_count": 16,
   "metadata": {},
   "outputs": [
    {
     "name": "stdout",
     "output_type": "stream",
     "text": [
      "60\n",
      "160\n"
     ]
    }
   ],
   "source": [
    "def sum_val(val1,val2,val3=100):\n",
    "    return val1 + val2 + val3\n",
    "\n",
    "print(sum_val(10,20,30))\n",
    "print(sum_val(10,50))\n"
   ]
  },
  {
   "cell_type": "code",
   "execution_count": null,
   "metadata": {},
   "outputs": [],
   "source": [
    "#print\n",
    "#type\n",
    "#len\n",
    "#sum\n",
    "#min\n",
    "#max\n",
    "#int\n",
    "#float\n",
    "#str\n",
    "#bool\n",
    "#list\n",
    "#tuple\n",
    "#set\n",
    "#dict\n",
    "#range\n",
    "#format\n",
    "\n",
    "#any\n",
    "#all\n",
    "#zip\n",
    "#chr\n",
    "#ord\n",
    "#bin\n",
    "#hex\n",
    "#oct\n",
    "#\n"
   ]
  },
  {
   "cell_type": "code",
   "execution_count": null,
   "metadata": {},
   "outputs": [],
   "source": [
    "https://www.w3schools.com/python/python_ref_functions.asp"
   ]
  }
 ],
 "metadata": {
  "kernelspec": {
   "display_name": "Python 3",
   "language": "python",
   "name": "python3"
  },
  "language_info": {
   "codemirror_mode": {
    "name": "ipython",
    "version": 3
   },
   "file_extension": ".py",
   "mimetype": "text/x-python",
   "name": "python",
   "nbconvert_exporter": "python",
   "pygments_lexer": "ipython3",
   "version": "3.7.6"
  }
 },
 "nbformat": 4,
 "nbformat_minor": 4
}
