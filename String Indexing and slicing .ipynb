{
 "cells": [
  {
   "cell_type": "code",
   "execution_count": null,
   "metadata": {},
   "outputs": [],
   "source": [
    "#string char :\n",
    "\n",
    "#whatever availabe within \"\" or ''\n",
    "\n",
    "#string ==> collection of chars\n",
    "#char ==> single letter\n",
    "\n",
    "a = \"c\" #===> char\n",
    "a = \"cab\" #String\n",
    "\n"
   ]
  },
  {
   "cell_type": "code",
   "execution_count": 4,
   "metadata": {},
   "outputs": [
    {
     "name": "stdout",
     "output_type": "stream",
     "text": [
      "python\n",
      "<class 'str'>\n",
      "p\n",
      "h\n",
      "h\n",
      "o\n"
     ]
    }
   ],
   "source": [
    "a = \"python\"\n",
    "\n",
    "#Forward indexing 0\n",
    "#reverse indexing -1\n",
    "\n",
    "#[] ==> indexing \n",
    "#() ==> function call\n",
    "\n",
    "\n",
    "print(a)\n",
    "print(type(a))\n",
    "\n",
    "print(a[0])\n",
    "print(a[3])\n",
    "print(a[-3])\n",
    "\n",
    "print(a[-2])"
   ]
  },
  {
   "cell_type": "code",
   "execution_count": 6,
   "metadata": {},
   "outputs": [
    {
     "name": "stdout",
     "output_type": "stream",
     "text": [
      "i\n",
      "i\n",
      "t\n",
      "t\n",
      "_\n",
      "_\n",
      "n\n",
      "n\n",
      "m\n",
      "m\n"
     ]
    }
   ],
   "source": [
    "a = \"computer_science\"\n",
    "\n",
    "'''\n",
    "extract \n",
    "i\n",
    "t\n",
    "_\n",
    "n\n",
    "m\n",
    "'''\n",
    "\n",
    "print(a[11])\n",
    "print(a[-5])\n",
    "\n",
    "print(a[5])\n",
    "print(a[-11])\n",
    "\n",
    "print(a[8])\n",
    "print(a[-8])\n",
    "\n",
    "print(a[13])\n",
    "print(a[-3])\n",
    "\n",
    "print(a[2])\n",
    "print(a[-14])\n",
    "\n"
   ]
  },
  {
   "cell_type": "code",
   "execution_count": 14,
   "metadata": {},
   "outputs": [
    {
     "name": "stdout",
     "output_type": "stream",
     "text": [
      "ytho\n",
      "tho\n",
      "yth\n",
      "pytho\n",
      "pyth\n",
      "ython\n",
      "python\n"
     ]
    }
   ],
   "source": [
    "#Slicing\n",
    "\n",
    "#type 1\n",
    "\n",
    "#[starting index (including):ending index(excluding):interval(optional)]\n",
    "\n",
    "b = \"python\"\n",
    "\n",
    "print(b[1:5])\n",
    "print(b[2:5]) \n",
    "\n",
    "print(b[-5:-2])\n",
    "print(b[-6:5])\n",
    "\n",
    "print(b[:4])\n",
    "print(b[1:])\n",
    "\n",
    "print(b[:])"
   ]
  },
  {
   "cell_type": "code",
   "execution_count": 17,
   "metadata": {},
   "outputs": [
    {
     "name": "stdout",
     "output_type": "stream",
     "text": [
      "tho\n",
      "tho\n",
      "tho\n",
      "tho\n"
     ]
    }
   ],
   "source": [
    "#type1\n",
    "\n",
    "b = \"python\"\n",
    "\n",
    "#tho\n",
    "\n",
    "print(b[2:5])\n",
    "print(b[-4:-1])\n",
    "print(b[2:-1])\n",
    "print(b[-4:5])"
   ]
  },
  {
   "cell_type": "code",
   "execution_count": 18,
   "metadata": {},
   "outputs": [
    {
     "name": "stdout",
     "output_type": "stream",
     "text": [
      "omputer_s\n",
      "omputer_s\n",
      "optrs\n",
      "our\n"
     ]
    }
   ],
   "source": [
    "#type 2 (with interval value)\n",
    "\n",
    "c = \"computer_science\"\n",
    "\n",
    "print(c[1:10]) #o \tm\tp\tu\tt\te\tr\t_\ts\n",
    "print(c[1:10:1])\n",
    "print(c[1:10:2]) #optrs\n",
    "print(c[1:10:3]) #our"
   ]
  },
  {
   "cell_type": "code",
   "execution_count": 19,
   "metadata": {},
   "outputs": [
    {
     "name": "stdout",
     "output_type": "stream",
     "text": [
      "ese\n",
      "p_\n",
      "ue_ce\n",
      "o_\n",
      "ienc\n"
     ]
    }
   ],
   "source": [
    "print(c[-10:15:3]) #e\tr\t_\ts\tc\ti\te\tn\tc #ese\n",
    "print(c[3:13:5])   #p\tu\tt\te\tr\t_\ts\tc\ti\te  #p_\n",
    "print(c[4:-3:2])   #u\tt\te\tr\t_\ts\tc\ti\te  #ue_ce\n",
    "print(c[-15:-5:7])  #o \tm\tp\tu\tt\te\tr\t_\ts\tc #o_\n",
    "print(c[-5:-1:1])   #i\te\tn\tc #ienc\n",
    "\n"
   ]
  },
  {
   "cell_type": "code",
   "execution_count": 2,
   "metadata": {},
   "outputs": [
    {
     "name": "stdout",
     "output_type": "stream",
     "text": [
      "puter\n",
      "puter\n",
      "\n",
      "\n",
      "_retu\n",
      "ptr\n",
      "\n",
      "\n",
      "_eu\n"
     ]
    }
   ],
   "source": [
    "#type3\n",
    "\n",
    "\n",
    "var = \"computer_science\"\n",
    "\n",
    "print(var[3:8])    #puter\n",
    "print(var[3:8:1])  #puter\n",
    "print(var[3:8:-1]) #empty\n",
    "print(var[8:3:1]) #empty\n",
    "print(var[8:3:-1]) #_retu\n",
    "print(var[3:8:2])  #ptr\n",
    "print(var[3:8:-2]) #empty\n",
    "print(var[8:3:2]) #empty\n",
    "print(var[8:3:-2])  #_eu\n",
    "\n",
    "#Output\n",
    "#Forward direction (start and end index ) + positive index interval\n",
    "#Negative direction (start and end index ) + Negative index interval\n",
    "\n",
    "\n",
    "\n",
    "\n",
    "\n"
   ]
  },
  {
   "cell_type": "code",
   "execution_count": 3,
   "metadata": {},
   "outputs": [
    {
     "name": "stdout",
     "output_type": "stream",
     "text": [
      "cmue\n",
      "enis\n",
      "_cec\n",
      "_eumc\n",
      "cmue_\n",
      "eni\n",
      "cec\n",
      "c_eumc\n"
     ]
    }
   ],
   "source": [
    "#Type4:\n",
    "\n",
    "var = \"computer_science\"\n",
    "\n",
    "print(var[:8:2])\n",
    "print(var[:8:-2])\n",
    "print(var[8::2])\n",
    "print(var[8::-2])\n",
    "print(var[:-6:2])\n",
    "print(var[:-6:-2])\n",
    "print(var[-6::2])\n",
    "print(var[-6::-2])\n",
    "\n"
   ]
  },
  {
   "cell_type": "code",
   "execution_count": null,
   "metadata": {},
   "outputs": [],
   "source": [
    "cmue\n",
    "enis\n",
    "_cec\n",
    "_eumc\n",
    "cmue_\n",
    "eni\n",
    "cec\n",
    "c_eumc\n"
   ]
  },
  {
   "cell_type": "code",
   "execution_count": 4,
   "metadata": {},
   "outputs": [
    {
     "name": "stdout",
     "output_type": "stream",
     "text": [
      "computer_science\n",
      "cmue_cec\n",
      "cpesee\n",
      "ecneics_retupmoc\n",
      "enisrtpo\n",
      "eesepc\n"
     ]
    }
   ],
   "source": [
    "#Type5\n",
    "\n",
    "var = \"computer_science\"\n",
    "\n",
    "print(var[::1])\n",
    "print(var[::2])\n",
    "print(var[::3])\n",
    "print(var[::-1])\n",
    "print(var[::-2])\n",
    "print(var[::-3])"
   ]
  },
  {
   "cell_type": "code",
   "execution_count": null,
   "metadata": {},
   "outputs": [],
   "source": [
    "computer_science\n",
    "cmue_cec\n",
    "cpesee\n",
    "ecneics_retupmoc\n",
    "enisrtpo\n",
    "eesepc\n"
   ]
  }
 ],
 "metadata": {
  "kernelspec": {
   "display_name": "Python 3",
   "language": "python",
   "name": "python3"
  },
  "language_info": {
   "codemirror_mode": {
    "name": "ipython",
    "version": 3
   },
   "file_extension": ".py",
   "mimetype": "text/x-python",
   "name": "python",
   "nbconvert_exporter": "python",
   "pygments_lexer": "ipython3",
   "version": "3.7.6"
  }
 },
 "nbformat": 4,
 "nbformat_minor": 4
}
