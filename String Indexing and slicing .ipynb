{
 "cells": [
  {
   "cell_type": "code",
   "execution_count": null,
   "metadata": {},
   "outputs": [],
   "source": [
    "#string char :\n",
    "\n",
    "#whatever availabe within \"\" or ''\n",
    "\n",
    "#string ==> collection of chars\n",
    "#char ==> single letter\n",
    "\n",
    "a = \"c\" #===> char\n",
    "a = \"cab\" #String\n",
    "\n"
   ]
  },
  {
   "cell_type": "code",
   "execution_count": 4,
   "metadata": {},
   "outputs": [
    {
     "name": "stdout",
     "output_type": "stream",
     "text": [
      "python\n",
      "<class 'str'>\n",
      "p\n",
      "h\n",
      "h\n",
      "o\n"
     ]
    }
   ],
   "source": [
    "a = \"python\"\n",
    "\n",
    "#Forward indexing 0\n",
    "#reverse indexing -1\n",
    "\n",
    "#[] ==> indexing \n",
    "#() ==> function call\n",
    "\n",
    "\n",
    "print(a)\n",
    "print(type(a))\n",
    "\n",
    "print(a[0])\n",
    "print(a[3])\n",
    "print(a[-3])\n",
    "\n",
    "print(a[-2])"
   ]
  },
  {
   "cell_type": "code",
   "execution_count": null,
   "metadata": {},
   "outputs": [],
   "source": []
  }
 ],
 "metadata": {
  "kernelspec": {
   "display_name": "Python 3",
   "language": "python",
   "name": "python3"
  },
  "language_info": {
   "codemirror_mode": {
    "name": "ipython",
    "version": 3
   },
   "file_extension": ".py",
   "mimetype": "text/x-python",
   "name": "python",
   "nbconvert_exporter": "python",
   "pygments_lexer": "ipython3",
   "version": "3.7.6"
  }
 },
 "nbformat": 4,
 "nbformat_minor": 4
}
