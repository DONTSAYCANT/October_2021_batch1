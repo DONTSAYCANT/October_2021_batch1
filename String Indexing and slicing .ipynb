{
 "cells": [
  {
   "cell_type": "code",
   "execution_count": null,
   "metadata": {},
   "outputs": [],
   "source": [
    "#string char :\n",
    "\n",
    "#whatever availabe within \"\" or ''\n",
    "\n",
    "#string ==> collection of chars\n",
    "#char ==> single letter\n",
    "\n",
    "a = \"c\" #===> char\n",
    "a = \"cab\" #String\n",
    "\n"
   ]
  },
  {
   "cell_type": "code",
   "execution_count": 4,
   "metadata": {},
   "outputs": [
    {
     "name": "stdout",
     "output_type": "stream",
     "text": [
      "python\n",
      "<class 'str'>\n",
      "p\n",
      "h\n",
      "h\n",
      "o\n"
     ]
    }
   ],
   "source": [
    "a = \"python\"\n",
    "\n",
    "#Forward indexing 0\n",
    "#reverse indexing -1\n",
    "\n",
    "#[] ==> indexing \n",
    "#() ==> function call\n",
    "\n",
    "\n",
    "print(a)\n",
    "print(type(a))\n",
    "\n",
    "print(a[0])\n",
    "print(a[3])\n",
    "print(a[-3])\n",
    "\n",
    "print(a[-2])"
   ]
  },
  {
   "cell_type": "code",
   "execution_count": 6,
   "metadata": {},
   "outputs": [
    {
     "name": "stdout",
     "output_type": "stream",
     "text": [
      "i\n",
      "i\n",
      "t\n",
      "t\n",
      "_\n",
      "_\n",
      "n\n",
      "n\n",
      "m\n",
      "m\n"
     ]
    }
   ],
   "source": [
    "a = \"computer_science\"\n",
    "\n",
    "'''\n",
    "extract \n",
    "i\n",
    "t\n",
    "_\n",
    "n\n",
    "m\n",
    "'''\n",
    "\n",
    "print(a[11])\n",
    "print(a[-5])\n",
    "\n",
    "print(a[5])\n",
    "print(a[-11])\n",
    "\n",
    "print(a[8])\n",
    "print(a[-8])\n",
    "\n",
    "print(a[13])\n",
    "print(a[-3])\n",
    "\n",
    "print(a[2])\n",
    "print(a[-14])\n",
    "\n"
   ]
  },
  {
   "cell_type": "code",
   "execution_count": 14,
   "metadata": {},
   "outputs": [
    {
     "name": "stdout",
     "output_type": "stream",
     "text": [
      "ytho\n",
      "tho\n",
      "yth\n",
      "pytho\n",
      "pyth\n",
      "ython\n",
      "python\n"
     ]
    }
   ],
   "source": [
    "#Slicing\n",
    "\n",
    "#type 1\n",
    "\n",
    "#[starting index (including):ending index(excluding):interval(optional)]\n",
    "\n",
    "b = \"python\"\n",
    "\n",
    "print(b[1:5])\n",
    "print(b[2:5]) \n",
    "\n",
    "print(b[-5:-2])\n",
    "print(b[-6:5])\n",
    "\n",
    "print(b[:4])\n",
    "print(b[1:])\n",
    "\n",
    "print(b[:])"
   ]
  },
  {
   "cell_type": "code",
   "execution_count": 17,
   "metadata": {},
   "outputs": [
    {
     "name": "stdout",
     "output_type": "stream",
     "text": [
      "tho\n",
      "tho\n",
      "tho\n",
      "tho\n"
     ]
    }
   ],
   "source": [
    "\n",
    "\n",
    "b = \"python\"\n",
    "\n",
    "#tho\n",
    "\n",
    "print(b[2:5])\n",
    "print(b[-4:-1])\n",
    "print(b[2:-1])\n",
    "print(b[-4:5])"
   ]
  },
  {
   "cell_type": "code",
   "execution_count": 18,
   "metadata": {},
   "outputs": [
    {
     "name": "stdout",
     "output_type": "stream",
     "text": [
      "omputer_s\n",
      "omputer_s\n",
      "optrs\n",
      "our\n"
     ]
    }
   ],
   "source": [
    "#type 2 (with interval value)\n",
    "\n",
    "c = \"computer_science\"\n",
    "\n",
    "print(c[1:10]) #o \tm\tp\tu\tt\te\tr\t_\ts\n",
    "print(c[1:10:1])\n",
    "print(c[1:10:2]) #optrs\n",
    "print(c[1:10:3]) #our"
   ]
  },
  {
   "cell_type": "code",
   "execution_count": 19,
   "metadata": {},
   "outputs": [
    {
     "name": "stdout",
     "output_type": "stream",
     "text": [
      "ese\n",
      "p_\n",
      "ue_ce\n",
      "o_\n",
      "ienc\n"
     ]
    }
   ],
   "source": [
    "print(c[-10:15:3]) #e\tr\t_\ts\tc\ti\te\tn\tc #ese\n",
    "print(c[3:13:5])   #p\tu\tt\te\tr\t_\ts\tc\ti\te  #p_\n",
    "print(c[4:-3:2])   #u\tt\te\tr\t_\ts\tc\ti\te  #ue_ce\n",
    "print(c[-15:-5:7])  #o \tm\tp\tu\tt\te\tr\t_\ts\tc #o_\n",
    "print(c[-5:-1:1])   #i\te\tn\tc #ienc\n",
    "\n"
   ]
  },
  {
   "cell_type": "code",
   "execution_count": null,
   "metadata": {},
   "outputs": [],
   "source": [
    "#type3\n",
    "\n"
   ]
  }
 ],
 "metadata": {
  "kernelspec": {
   "display_name": "Python 3",
   "language": "python",
   "name": "python3"
  },
  "language_info": {
   "codemirror_mode": {
    "name": "ipython",
    "version": 3
   },
   "file_extension": ".py",
   "mimetype": "text/x-python",
   "name": "python",
   "nbconvert_exporter": "python",
   "pygments_lexer": "ipython3",
   "version": "3.7.6"
  }
 },
 "nbformat": 4,
 "nbformat_minor": 4
}
