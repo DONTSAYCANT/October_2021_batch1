{
 "cells": [
  {
   "cell_type": "code",
   "execution_count": null,
   "metadata": {},
   "outputs": [],
   "source": [
    "#Indentation\n",
    "#comparison operator\n",
    "#assignment operator\n",
    "#booelan data type\n",
    "#logical operator\n",
    "\n",
    "#keywords:\n",
    "\n",
    "#if elif else\n",
    "\n",
    "\n"
   ]
  },
  {
   "cell_type": "code",
   "execution_count": null,
   "metadata": {},
   "outputs": [],
   "source": [
    "if a > b {\n",
    "    \n",
    "    #code 1\n",
    "    #code 2\n",
    "    #code 3\n",
    "}"
   ]
  },
  {
   "cell_type": "code",
   "execution_count": 2,
   "metadata": {},
   "outputs": [
    {
     "name": "stdout",
     "output_type": "stream",
     "text": [
      "True\n",
      "inside if condition\n",
      "This is valid\n",
      "This checking if cond\n",
      "This is main program\n",
      "This is outside if\n"
     ]
    }
   ],
   "source": [
    "#scope\n",
    "\n",
    "a = 10\n",
    "b = 20\n",
    "\n",
    "print(a < b)\n",
    "\n",
    "if a < b:  #{\n",
    "    print(\"inside if condition\")\n",
    "    print(\"This is valid\")\n",
    "    print(\"This checking if cond\") # ===> }\n",
    "print(\"This is main program\")\n",
    "print(\"This is outside if\")"
   ]
  },
  {
   "cell_type": "code",
   "execution_count": 7,
   "metadata": {},
   "outputs": [
    {
     "name": "stdout",
     "output_type": "stream",
     "text": [
      "True\n",
      "True\n",
      "True\n",
      "False\n"
     ]
    }
   ],
   "source": [
    "#< > <= >= == !=\n",
    "\n",
    "print(10 > 9)\n",
    "print(10 >= 10)\n",
    "print(10 == 10)\n",
    "print(10 != 10)"
   ]
  },
  {
   "cell_type": "code",
   "execution_count": 6,
   "metadata": {},
   "outputs": [
    {
     "name": "stdout",
     "output_type": "stream",
     "text": [
      "10\n"
     ]
    }
   ],
   "source": [
    "#assignment operator\n",
    "var = 10\n",
    "print(var)"
   ]
  },
  {
   "cell_type": "code",
   "execution_count": 9,
   "metadata": {},
   "outputs": [
    {
     "name": "stdout",
     "output_type": "stream",
     "text": [
      "please enter your age: 9\n",
      "Main part\n",
      "independent of if condition\n"
     ]
    }
   ],
   "source": [
    "age = int(input(\"please enter your age: \"))\n",
    "\n",
    "if age > 10:\n",
    "    print(\"eligible for high school\")\n",
    "print(\"Main part\")\n",
    "print(\"independent of if condition\")"
   ]
  },
  {
   "cell_type": "code",
   "execution_count": 10,
   "metadata": {},
   "outputs": [],
   "source": [
    "#if \n",
    "#if else\n",
    "#if elif elif elif elif n time\n",
    "#if elif elif elif n times else"
   ]
  },
  {
   "cell_type": "code",
   "execution_count": 7,
   "metadata": {},
   "outputs": [
    {
     "name": "stdout",
     "output_type": "stream",
     "text": [
      "please enter a mark: 1000\n",
      "Grade A\n"
     ]
    }
   ],
   "source": [
    "mark = int(input(\"please enter a mark: \"))\n",
    "\n",
    "#90+ A   80+  B   70+ C  60 + D  50 + E  others Fail\n",
    "\n",
    "#0 to 100 else: invalid mark\n",
    "#Nested if \n",
    "\n",
    "if mark > 90:\n",
    "    print(\"Grade A\")\n",
    "elif mark > 80:\n",
    "    print(\"Grade B\")\n",
    "elif mark > 70:\n",
    "    print(\"Grade C\")\n",
    "elif mark > 60:\n",
    "    print(\"Grade D\")\n",
    "elif mark > 50:\n",
    "    print(\"Grade E\")\n",
    "else:\n",
    "    print(\"Fail mark\")"
   ]
  },
  {
   "cell_type": "code",
   "execution_count": 6,
   "metadata": {},
   "outputs": [
    {
     "name": "stdout",
     "output_type": "stream",
     "text": [
      "enter a string: computer\n",
      "This string is computer\n"
     ]
    }
   ],
   "source": [
    "a = input(\"enter a string: \")\n",
    "\n",
    "if a == \"computer\":\n",
    "    print(\"This string is computer\")\n",
    "else:\n",
    "    print(\"This is some othe rstring\")\n",
    "    \n",
    "    "
   ]
  },
  {
   "cell_type": "code",
   "execution_count": null,
   "metadata": {},
   "outputs": [],
   "source": [
    "#with variable\n",
    "#with True\n",
    "#pass\n",
    "#Nested if \n",
    "#10 programs"
   ]
  }
 ],
 "metadata": {
  "kernelspec": {
   "display_name": "Python 3",
   "language": "python",
   "name": "python3"
  },
  "language_info": {
   "codemirror_mode": {
    "name": "ipython",
    "version": 3
   },
   "file_extension": ".py",
   "mimetype": "text/x-python",
   "name": "python",
   "nbconvert_exporter": "python",
   "pygments_lexer": "ipython3",
   "version": "3.7.6"
  }
 },
 "nbformat": 4,
 "nbformat_minor": 4
}
