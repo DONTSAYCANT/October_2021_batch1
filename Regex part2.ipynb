{
 "cells": [
  {
   "cell_type": "code",
   "execution_count": 1,
   "metadata": {},
   "outputs": [],
   "source": [
    "import re"
   ]
  },
  {
   "cell_type": "code",
   "execution_count": 2,
   "metadata": {},
   "outputs": [
    {
     "name": "stdout",
     "output_type": "stream",
     "text": [
      "['3', '4', '500']\n"
     ]
    }
   ],
   "source": [
    "main_string = \"i have 3 dogs and 4 cats with 500 fishes\"\n",
    "pattern = \"\\d+\"\n",
    "\n",
    "\n",
    "val = re.findall(pattern, main_string)\n",
    "\n",
    "print(val)"
   ]
  },
  {
   "cell_type": "code",
   "execution_count": 3,
   "metadata": {},
   "outputs": [
    {
     "name": "stdout",
     "output_type": "stream",
     "text": [
      "['3', '4', '500']\n"
     ]
    }
   ],
   "source": [
    "val = re.findall(\"\\d+\", \"i have 3 dogs and 4 cats with 500 fishes\")\n",
    "\n",
    "print(val)"
   ]
  },
  {
   "cell_type": "code",
   "execution_count": 4,
   "metadata": {},
   "outputs": [
    {
     "name": "stdout",
     "output_type": "stream",
     "text": [
      "['i have ', ' dogs and ', ' cats with ', ' fishes']\n"
     ]
    }
   ],
   "source": [
    "main_string = \"i have 3 dogs and 4 cats with 500 fishes\"\n",
    "pattern = \"\\d+\"\n",
    "\n",
    "\n",
    "val = re.split(pattern, main_string)\n",
    "\n",
    "print(val)"
   ]
  },
  {
   "cell_type": "code",
   "execution_count": 5,
   "metadata": {},
   "outputs": [
    {
     "name": "stdout",
     "output_type": "stream",
     "text": [
      "i have 00 dogs and 00 cats with 00 fishes\n"
     ]
    }
   ],
   "source": [
    "main_string = \"i have 3 dogs and 4 cats with 500 fishes\"\n",
    "pattern = \"\\d+\"\n",
    "sub = \"00\"\n",
    "\n",
    "\n",
    "val = re.sub(pattern, sub, main_string)\n",
    "\n",
    "print(val)"
   ]
  },
  {
   "cell_type": "code",
   "execution_count": 6,
   "metadata": {},
   "outputs": [
    {
     "name": "stdout",
     "output_type": "stream",
     "text": [
      "('i have 00 dogs and 00 cats with 00 fishes', 3)\n"
     ]
    }
   ],
   "source": [
    "main_string = \"i have 3 dogs and 4 cats with 500 fishes\"\n",
    "pattern = \"\\d+\"\n",
    "sub = \"00\"\n",
    "\n",
    "\n",
    "val = re.subn(pattern, sub, main_string)\n",
    "\n",
    "print(val)"
   ]
  },
  {
   "cell_type": "code",
   "execution_count": 7,
   "metadata": {},
   "outputs": [
    {
     "name": "stdout",
     "output_type": "stream",
     "text": [
      "['05-12-2021', '06-12-2021']\n"
     ]
    }
   ],
   "source": [
    "main_string = \"today date is 05-12-2021 and tomorrow date is 06-12-2021\"\n",
    "pattern = \"\\d{2}-\\d{2}-\\d{4}\"\n",
    "\n",
    "\n",
    "val = re.findall(pattern, main_string)\n",
    "\n",
    "print(val)"
   ]
  },
  {
   "cell_type": "code",
   "execution_count": 18,
   "metadata": {},
   "outputs": [
    {
     "name": "stdout",
     "output_type": "stream",
     "text": [
      "05-12-2021\n",
      "05\n",
      "(14, 24)\n",
      "14\n",
      "24\n",
      "<re.Match object; span=(14, 24), match='05-12-2021'>\n"
     ]
    }
   ],
   "source": [
    "main_string = \"today date is 05-12-2021 and tomorrow date is 06-12-2021\"\n",
    "pattern = \"(\\d{2})-\\d{2}-\\d{4}\"\n",
    "\n",
    "\n",
    "val = re.search(pattern, main_string)\n",
    "\n",
    "print(val.group())\n",
    "print(val.group(1))\n",
    "print(val.span())\n",
    "print(val.start())\n",
    "print(val.end())\n",
    "print(val)"
   ]
  },
  {
   "cell_type": "code",
   "execution_count": null,
   "metadata": {},
   "outputs": [],
   "source": []
  }
 ],
 "metadata": {
  "kernelspec": {
   "display_name": "Python 3",
   "language": "python",
   "name": "python3"
  },
  "language_info": {
   "codemirror_mode": {
    "name": "ipython",
    "version": 3
   },
   "file_extension": ".py",
   "mimetype": "text/x-python",
   "name": "python",
   "nbconvert_exporter": "python",
   "pygments_lexer": "ipython3",
   "version": "3.7.6"
  }
 },
 "nbformat": 4,
 "nbformat_minor": 4
}
