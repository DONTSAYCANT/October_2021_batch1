{
 "cells": [
  {
   "cell_type": "code",
   "execution_count": null,
   "metadata": {},
   "outputs": [],
   "source": [
    "https://www.w3schools.com/python/python_ref_string.asp\n",
    "#strings:\n",
    "\n",
    "#\" \", ' '\n",
    "#list of chars\n",
    "\n",
    "#\"python\"  ==> p y t h o n\n",
    "\n",
    "#operate with strings\n",
    "\n"
   ]
  },
  {
   "cell_type": "code",
   "execution_count": 1,
   "metadata": {},
   "outputs": [
    {
     "name": "stdout",
     "output_type": "stream",
     "text": [
      "pythonhello wrold\n"
     ]
    }
   ],
   "source": [
    "#concatenation\n",
    "\n",
    "\n",
    "a = \"python\"\n",
    "b = \"hello wrold\"\n",
    "\n",
    "c = a + b\n",
    "print(c)"
   ]
  },
  {
   "cell_type": "code",
   "execution_count": 2,
   "metadata": {},
   "outputs": [
    {
     "name": "stdout",
     "output_type": "stream",
     "text": [
      "python hello wrold\n"
     ]
    }
   ],
   "source": [
    "a = \"python\"\n",
    "b = \"hello wrold\"\n",
    "\n",
    "c = a + \" \" + b\n",
    "print(c)"
   ]
  },
  {
   "cell_type": "code",
   "execution_count": null,
   "metadata": {},
   "outputs": [],
   "source": [
    "#string + string\n",
    "#int + int \n",
    "#data + data\n",
    "\n",
    "#sting + int ==> fail\n",
    "#int + string ===> fail"
   ]
  },
  {
   "cell_type": "code",
   "execution_count": 4,
   "metadata": {},
   "outputs": [
    {
     "name": "stdout",
     "output_type": "stream",
     "text": [
      "python9\n"
     ]
    }
   ],
   "source": [
    "#print(\"python\" + 9)\n",
    "print(\"python\" + str(9)) #==>"
   ]
  },
  {
   "cell_type": "code",
   "execution_count": 6,
   "metadata": {},
   "outputs": [
    {
     "name": "stdout",
     "output_type": "stream",
     "text": [
      "enter a number10\n",
      "enter a stringpython\n",
      "10python\n"
     ]
    }
   ],
   "source": [
    "a = int(input(\"enter a number\"))\n",
    "b = input(\"enter a string\")\n",
    "\n",
    "print(str(a) + b)"
   ]
  },
  {
   "cell_type": "code",
   "execution_count": 7,
   "metadata": {},
   "outputs": [
    {
     "name": "stdout",
     "output_type": "stream",
     "text": [
      "10\n"
     ]
    }
   ],
   "source": [
    "#len\n",
    "\n",
    "a = \"hackerrank\"\n",
    "print(len(a))\n"
   ]
  },
  {
   "cell_type": "code",
   "execution_count": 11,
   "metadata": {},
   "outputs": [
    {
     "name": "stdout",
     "output_type": "stream",
     "text": [
      "3\n",
      "0\n",
      "1\n",
      "1\n"
     ]
    }
   ],
   "source": [
    "#count\n",
    "\n",
    "a = \"hello world\"\n",
    "b = \"l\"\n",
    "\n",
    "print(a.count(b))\n",
    "print(a.count(\"z\"))\n",
    "print(a.count(\"world\"))\n",
    "print(\"python\".count(\"on\"))"
   ]
  },
  {
   "cell_type": "code",
   "execution_count": 13,
   "metadata": {},
   "outputs": [
    {
     "name": "stdout",
     "output_type": "stream",
     "text": [
      "he**o wor*d\n",
      "pyth*\n"
     ]
    }
   ],
   "source": [
    "#replace\n",
    "\n",
    "a = \"hello world\"\n",
    "b = \"l\"\n",
    "c = \"*\"\n",
    "\n",
    "print(a.replace(b,c))\n",
    "print(\"python\".replace(\"on\",\"*\"))"
   ]
  },
  {
   "cell_type": "code",
   "execution_count": 18,
   "metadata": {},
   "outputs": [
    {
     "name": "stdout",
     "output_type": "stream",
     "text": [
      "5\n",
      "-1\n"
     ]
    }
   ],
   "source": [
    "#find\n",
    "\n",
    "a = \"computer\"\n",
    "b = \"ter\"\n",
    "\n",
    "print(a.find(b))\n",
    "print(a.find(\"z\"))"
   ]
  },
  {
   "cell_type": "code",
   "execution_count": 17,
   "metadata": {},
   "outputs": [
    {
     "name": "stdout",
     "output_type": "stream",
     "text": [
      "5\n"
     ]
    },
    {
     "ename": "ValueError",
     "evalue": "substring not found",
     "output_type": "error",
     "traceback": [
      "\u001b[1;31m---------------------------------------------------------------------------\u001b[0m",
      "\u001b[1;31mValueError\u001b[0m                                Traceback (most recent call last)",
      "\u001b[1;32m<ipython-input-17-d9acbe4e2b98>\u001b[0m in \u001b[0;36m<module>\u001b[1;34m\u001b[0m\n\u001b[0;32m      6\u001b[0m \u001b[1;33m\u001b[0m\u001b[0m\n\u001b[0;32m      7\u001b[0m \u001b[0mprint\u001b[0m\u001b[1;33m(\u001b[0m\u001b[0ma\u001b[0m\u001b[1;33m.\u001b[0m\u001b[0mindex\u001b[0m\u001b[1;33m(\u001b[0m\u001b[0mb\u001b[0m\u001b[1;33m)\u001b[0m\u001b[1;33m)\u001b[0m\u001b[1;33m\u001b[0m\u001b[1;33m\u001b[0m\u001b[0m\n\u001b[1;32m----> 8\u001b[1;33m \u001b[0mprint\u001b[0m\u001b[1;33m(\u001b[0m\u001b[0ma\u001b[0m\u001b[1;33m.\u001b[0m\u001b[0mindex\u001b[0m\u001b[1;33m(\u001b[0m\u001b[1;34m\"z\"\u001b[0m\u001b[1;33m)\u001b[0m\u001b[1;33m)\u001b[0m\u001b[1;33m\u001b[0m\u001b[1;33m\u001b[0m\u001b[0m\n\u001b[0m",
      "\u001b[1;31mValueError\u001b[0m: substring not found"
     ]
    }
   ],
   "source": [
    "#index\n",
    "\n",
    "\n",
    "a = \"computer\"\n",
    "b = \"ter\"\n",
    "\n",
    "print(a.index(b))\n",
    "print(a.index(\"z\"))"
   ]
  },
  {
   "cell_type": "code",
   "execution_count": 20,
   "metadata": {},
   "outputs": [
    {
     "name": "stdout",
     "output_type": "stream",
     "text": [
      "ABCDE\n",
      "abcde\n"
     ]
    }
   ],
   "source": [
    "#upper/lower\n",
    "\n",
    "a = \"abcde\"\n",
    "b = \"ABCDE\"\n",
    "print(a.upper())\n",
    "print(b.lower())"
   ]
  },
  {
   "cell_type": "code",
   "execution_count": 22,
   "metadata": {},
   "outputs": [
    {
     "name": "stdout",
     "output_type": "stream",
     "text": [
      "Abcde Welcome To Python World\n"
     ]
    }
   ],
   "source": [
    "#title\n",
    "\n",
    "a = \"abcde welcome to python world\"\n",
    "print(a.title())"
   ]
  },
  {
   "cell_type": "code",
   "execution_count": 23,
   "metadata": {},
   "outputs": [
    {
     "name": "stdout",
     "output_type": "stream",
     "text": [
      "Hello world python\n"
     ]
    }
   ],
   "source": [
    "#capitalize\n",
    "\n",
    "a = \"hello world python\"\n",
    "\n",
    "print(a.capitalize())"
   ]
  },
  {
   "cell_type": "code",
   "execution_count": 24,
   "metadata": {},
   "outputs": [
    {
     "name": "stdout",
     "output_type": "stream",
     "text": [
      "AbCde\n"
     ]
    }
   ],
   "source": [
    "#swapcase\n",
    "\n",
    "a = \"aBcDE\"\n",
    "print(a.swapcase())"
   ]
  },
  {
   "cell_type": "code",
   "execution_count": 29,
   "metadata": {},
   "outputs": [
    {
     "name": "stdout",
     "output_type": "stream",
     "text": [
      "True\n",
      "False\n",
      "True\n",
      "False\n",
      "True\n",
      "False\n"
     ]
    }
   ],
   "source": [
    "#startswith / endswith\n",
    "\n",
    "a = \"python\"\n",
    "print(a.startswith(\"py\"))\n",
    "print(a.startswith(\"pyppp\"))\n",
    "print(a.startswith(\"p\"))\n",
    "\n",
    "b = \"hello\"\n",
    "print(b.endswith(\"z\"))\n",
    "print(b.endswith(\"llo\"))\n",
    "print(b.endswith(\"ll\"))\n",
    "\n",
    "#boolean data types\n"
   ]
  },
  {
   "cell_type": "code",
   "execution_count": 38,
   "metadata": {},
   "outputs": [
    {
     "name": "stdout",
     "output_type": "stream",
     "text": [
      "pyt__  ____  ___hon\n",
      "pyt__  ____  ___hon____\n",
      "________pyt__  ____  ___hon\n",
      "python\n"
     ]
    }
   ],
   "source": [
    "#strip/lstrip/rstrip\n",
    "\n",
    "a = \"________pyt__  ____  ___hon____\"\n",
    "\n",
    "#print(a.strip()) #default space\n",
    "print(a.strip(\"_\"))\n",
    "print(a.lstrip(\"_\"))\n",
    "print(a.rstrip(\"_\"))\n",
    "\n",
    "b = \"     python               \"\n",
    "print(b.strip())"
   ]
  },
  {
   "cell_type": "code",
   "execution_count": 39,
   "metadata": {},
   "outputs": [
    {
     "name": "stdout",
     "output_type": "stream",
     "text": [
      "True\n",
      "False\n",
      "True\n",
      "False\n"
     ]
    }
   ],
   "source": [
    "#isalpha, isnum, isupper, islower\n",
    "\n",
    "a = \"pkhhh\"\n",
    "\n",
    "print(a.isalpha())\n",
    "print(a.isnumeric())\n",
    "print(a.islower())\n",
    "print(a.isupper())\n"
   ]
  },
  {
   "cell_type": "code",
   "execution_count": 40,
   "metadata": {},
   "outputs": [
    {
     "name": "stdout",
     "output_type": "stream",
     "text": [
      "The multiplication of 10 and 20 is 200\n",
      "The multiplication of 10 and 20 is 200\n",
      "The multiplication of 20 and 10 is 200\n"
     ]
    }
   ],
   "source": [
    "#format\n",
    "\n",
    "a = 10\n",
    "b = 20\n",
    "\n",
    "c = a * b\n",
    "\n",
    "print(\"The multiplication of {} and {} is {}\".format(a,b,c))\n",
    "\n",
    "print(\"The multiplication of {0} and {1} is {2}\".format(a,b,c))\n",
    "\n",
    "print(\"The multiplication of {1} and {0} is {2}\".format(a,b,c))"
   ]
  },
  {
   "cell_type": "code",
   "execution_count": 41,
   "metadata": {},
   "outputs": [
    {
     "name": "stdout",
     "output_type": "stream",
     "text": [
      "True\n"
     ]
    }
   ],
   "source": [
    "#membership operator\n",
    "\n",
    "#in\n",
    "\n",
    "print(\"py\" in \"python\")"
   ]
  },
  {
   "cell_type": "code",
   "execution_count": 46,
   "metadata": {},
   "outputs": [
    {
     "name": "stdout",
     "output_type": "stream",
     "text": [
      "o\n"
     ]
    },
    {
     "ename": "TypeError",
     "evalue": "'str' object does not support item assignment",
     "output_type": "error",
     "traceback": [
      "\u001b[1;31m---------------------------------------------------------------------------\u001b[0m",
      "\u001b[1;31mTypeError\u001b[0m                                 Traceback (most recent call last)",
      "\u001b[1;32m<ipython-input-46-dbef74abda93>\u001b[0m in \u001b[0;36m<module>\u001b[1;34m\u001b[0m\n\u001b[0;32m      7\u001b[0m \u001b[0mprint\u001b[0m\u001b[1;33m(\u001b[0m\u001b[0ma\u001b[0m\u001b[1;33m[\u001b[0m\u001b[0mindex\u001b[0m\u001b[1;33m]\u001b[0m\u001b[1;33m)\u001b[0m\u001b[1;33m\u001b[0m\u001b[1;33m\u001b[0m\u001b[0m\n\u001b[0;32m      8\u001b[0m \u001b[1;33m\u001b[0m\u001b[0m\n\u001b[1;32m----> 9\u001b[1;33m \u001b[0ma\u001b[0m\u001b[1;33m[\u001b[0m\u001b[0mindex\u001b[0m\u001b[1;33m]\u001b[0m \u001b[1;33m=\u001b[0m \u001b[0mb\u001b[0m\u001b[1;33m\u001b[0m\u001b[1;33m\u001b[0m\u001b[0m\n\u001b[0m\u001b[0;32m     10\u001b[0m \u001b[1;33m\u001b[0m\u001b[0m\n\u001b[0;32m     11\u001b[0m \u001b[1;33m\u001b[0m\u001b[0m\n",
      "\u001b[1;31mTypeError\u001b[0m: 'str' object does not support item assignment"
     ]
    }
   ],
   "source": [
    "#immutable strings\n",
    "\n",
    "a = \"pothon\"\n",
    "index = 4\n",
    "b = \"*\"\n",
    "\n",
    "print(a[index])\n",
    "\n",
    "a[index] = b\n",
    "\n",
    "\n"
   ]
  },
  {
   "cell_type": "code",
   "execution_count": 45,
   "metadata": {},
   "outputs": [
    {
     "name": "stdout",
     "output_type": "stream",
     "text": [
      "p*th*n\n"
     ]
    }
   ],
   "source": [
    "a = \"pothon\"\n",
    "print(a.replace(\"o\",\"*\"))"
   ]
  },
  {
   "cell_type": "code",
   "execution_count": null,
   "metadata": {},
   "outputs": [],
   "source": [
    "#https://www.w3schools.com/python/python_ref_string.asp"
   ]
  }
 ],
 "metadata": {
  "kernelspec": {
   "display_name": "Python 3",
   "language": "python",
   "name": "python3"
  },
  "language_info": {
   "codemirror_mode": {
    "name": "ipython",
    "version": 3
   },
   "file_extension": ".py",
   "mimetype": "text/x-python",
   "name": "python",
   "nbconvert_exporter": "python",
   "pygments_lexer": "ipython3",
   "version": "3.7.6"
  }
 },
 "nbformat": 4,
 "nbformat_minor": 4
}
