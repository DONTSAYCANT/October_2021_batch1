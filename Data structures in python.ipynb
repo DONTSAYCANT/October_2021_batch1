{
 "cells": [
  {
   "cell_type": "code",
   "execution_count": null,
   "metadata": {},
   "outputs": [],
   "source": [
    "#https://www.w3schools.com/python/python_lists_methods.asp"
   ]
  },
  {
   "cell_type": "code",
   "execution_count": 2,
   "metadata": {},
   "outputs": [
    {
     "name": "stdout",
     "output_type": "stream",
     "text": [
      "['aaaa', 'bbbb', 'ccc', 'zzzz', 9, 10.999, False]\n",
      "<class 'list'>\n"
     ]
    }
   ],
   "source": [
    "a = 10 #storing one value is very rare\n",
    "\n",
    "#data structure ==> storing multiple values\n",
    "\n",
    "b = [\"aaaa\", \"bbbb\", \"ccc\", \"zzzz\", 9, 10.999, False]\n",
    "\n",
    "print(b)\n",
    "print(type(b))\n",
    "\n",
    "#List tuple Set Dictionary\n",
    "\n",
    "#List [], indexed or ordered, Mutable\n",
    "\n",
    "#Heterogenous Homogenous\n",
    "\n"
   ]
  },
  {
   "cell_type": "code",
   "execution_count": 3,
   "metadata": {},
   "outputs": [
    {
     "name": "stdout",
     "output_type": "stream",
     "text": [
      "['aaaa', 'bbbb', 'ccc', 'zzzz', 9, 10.999, False]\n",
      "False\n",
      "aaaa\n",
      "9\n",
      "['zzzz', 9, 10.999, False]\n"
     ]
    }
   ],
   "source": [
    "b = [\"aaaa\", \"bbbb\", \"ccc\", \"zzzz\", 9, 10.999, False]\n",
    "\n",
    "print(b)\n",
    "print(b[-1])\n",
    "print(b[0])\n",
    "print(b[-3])\n",
    "print(b[-4:])"
   ]
  },
  {
   "cell_type": "code",
   "execution_count": 4,
   "metadata": {},
   "outputs": [
    {
     "name": "stdout",
     "output_type": "stream",
     "text": [
      "[]\n"
     ]
    }
   ],
   "source": [
    "print(b[-4:2])"
   ]
  },
  {
   "cell_type": "code",
   "execution_count": 6,
   "metadata": {},
   "outputs": [
    {
     "name": "stdout",
     "output_type": "stream",
     "text": [
      "[]\n",
      "<class 'list'>\n",
      "[]\n",
      "<class 'list'>\n"
     ]
    }
   ],
   "source": [
    "#Empty List\n",
    "\n",
    "a = []\n",
    "\n",
    "print(a)\n",
    "print(type(a))\n",
    "\n",
    "b = list()\n",
    "\n",
    "print(b)\n",
    "print(type(b))"
   ]
  },
  {
   "cell_type": "code",
   "execution_count": 8,
   "metadata": {},
   "outputs": [
    {
     "name": "stdout",
     "output_type": "stream",
     "text": [
      "[3, 4, 5, 2, 7, 8, 1, 1, 1, 3, 3, 3, 0, 9, 8, 7]\n"
     ]
    }
   ],
   "source": [
    "#concatenation\n",
    "\n",
    "a = [3,4,5,2,7,8]\n",
    "b = [1,1,1,3,3,3]\n",
    "\n",
    "print(a+b+[0,9,8,7])"
   ]
  },
  {
   "cell_type": "code",
   "execution_count": 9,
   "metadata": {},
   "outputs": [
    {
     "name": "stdout",
     "output_type": "stream",
     "text": [
      "[3, 4, 5, 2, 2, 1, 3, 4, 5, 2, 2, 1, 3, 4, 5, 2, 2, 1, 3, 4, 5, 2, 2, 1, 3, 4, 5, 2, 2, 1]\n"
     ]
    }
   ],
   "source": [
    "#multiplication\n",
    "\n",
    "a = [3,4,5,2,2,1]\n",
    "\n",
    "print(a*5)"
   ]
  },
  {
   "cell_type": "code",
   "execution_count": 12,
   "metadata": {},
   "outputs": [
    {
     "name": "stdout",
     "output_type": "stream",
     "text": [
      "[4, 5, 6, 7, 10, 9]\n"
     ]
    }
   ],
   "source": [
    "#append\n",
    "\n",
    "a = [4,5,6,7]\n",
    "\n",
    "a.append(10)\n",
    "a.append(9)\n",
    "\n",
    "print(a)"
   ]
  },
  {
   "cell_type": "code",
   "execution_count": 13,
   "metadata": {},
   "outputs": [
    {
     "name": "stdout",
     "output_type": "stream",
     "text": [
      "[4, 'python', 5, 12, 6, 7]\n"
     ]
    }
   ],
   "source": [
    "#insert\n",
    "\n",
    "a = [4,5,6,7]\n",
    "\n",
    "a.insert(2,12) #index,value\n",
    "a.insert(1,\"python\")\n",
    "\n",
    "print(a)\n"
   ]
  },
  {
   "cell_type": "code",
   "execution_count": 16,
   "metadata": {},
   "outputs": [
    {
     "name": "stdout",
     "output_type": "stream",
     "text": [
      "[3, 4, 5, 6, 7]\n",
      "[3, 4, 6, 7]\n",
      "[3, 4, 7]\n"
     ]
    }
   ],
   "source": [
    "#pop\n",
    "\n",
    "a = [3,4,5,6,7,8]\n",
    "\n",
    "a.pop() #type1\n",
    "print(a)\n",
    "a.pop(2) #type2\n",
    "print(a)\n",
    "a.pop(-2) \n",
    "print(a)"
   ]
  },
  {
   "cell_type": "code",
   "execution_count": 19,
   "metadata": {},
   "outputs": [
    {
     "name": "stdout",
     "output_type": "stream",
     "text": [
      "[3, 4, 6, 2, 1]\n"
     ]
    }
   ],
   "source": [
    "#remove\n",
    "\n",
    "a = [3,4,5,6,2,1]\n",
    "a.remove(5)\n",
    "#a.remove(0) #will throw error if elelment unavailable\n",
    "\n",
    "print(a)"
   ]
  },
  {
   "cell_type": "code",
   "execution_count": 24,
   "metadata": {},
   "outputs": [
    {
     "name": "stdout",
     "output_type": "stream",
     "text": [
      "None\n",
      "[1, 2, 3, 4, 10, 11, 3, 5, -1]\n"
     ]
    }
   ],
   "source": [
    "#extend\n",
    "\n",
    "a = [1,2,3,4]\n",
    "a.extend([10,11,3,5,-1])\n",
    "\n",
    "print(a)"
   ]
  },
  {
   "cell_type": "code",
   "execution_count": 25,
   "metadata": {},
   "outputs": [
    {
     "name": "stdout",
     "output_type": "stream",
     "text": [
      "[1, 2, 3, 4, 2, 3, 0]\n"
     ]
    }
   ],
   "source": [
    "c = [1,2,3,4] + [2,3,0]\n",
    "print(c)"
   ]
  },
  {
   "cell_type": "code",
   "execution_count": 26,
   "metadata": {},
   "outputs": [
    {
     "name": "stdout",
     "output_type": "stream",
     "text": [
      "[3, 4, 5, 100, 0, 10]\n"
     ]
    }
   ],
   "source": [
    "#replacement/assignment\n",
    "\n",
    "a = [3,4,5,6,0,10]\n",
    "\n",
    "a[3] = 100\n",
    "\n",
    "print(a)\n",
    "\n"
   ]
  },
  {
   "cell_type": "code",
   "execution_count": 27,
   "metadata": {},
   "outputs": [
    {
     "ename": "TypeError",
     "evalue": "'str' object does not support item assignment",
     "output_type": "error",
     "traceback": [
      "\u001b[1;31m---------------------------------------------------------------------------\u001b[0m",
      "\u001b[1;31mTypeError\u001b[0m                                 Traceback (most recent call last)",
      "\u001b[1;32m<ipython-input-27-d510d33803d1>\u001b[0m in \u001b[0;36m<module>\u001b[1;34m\u001b[0m\n\u001b[0;32m      1\u001b[0m \u001b[0ma\u001b[0m \u001b[1;33m=\u001b[0m \u001b[1;34m\"clone\"\u001b[0m\u001b[1;33m\u001b[0m\u001b[1;33m\u001b[0m\u001b[0m\n\u001b[1;32m----> 2\u001b[1;33m \u001b[0ma\u001b[0m\u001b[1;33m[\u001b[0m\u001b[1;36m2\u001b[0m\u001b[1;33m]\u001b[0m \u001b[1;33m=\u001b[0m \u001b[1;34m\"m\"\u001b[0m\u001b[1;33m\u001b[0m\u001b[1;33m\u001b[0m\u001b[0m\n\u001b[0m\u001b[0;32m      3\u001b[0m \u001b[0mprint\u001b[0m\u001b[1;33m(\u001b[0m\u001b[0ma\u001b[0m\u001b[1;33m)\u001b[0m\u001b[1;33m\u001b[0m\u001b[1;33m\u001b[0m\u001b[0m\n",
      "\u001b[1;31mTypeError\u001b[0m: 'str' object does not support item assignment"
     ]
    }
   ],
   "source": [
    "a = \"clone\"\n",
    "a[2] = \"m\"\n",
    "print(a)"
   ]
  },
  {
   "cell_type": "code",
   "execution_count": 31,
   "metadata": {},
   "outputs": [
    {
     "name": "stdout",
     "output_type": "stream",
     "text": [
      "3\n",
      "0\n"
     ]
    }
   ],
   "source": [
    "#index\n",
    "\n",
    "a = [1,2,3,4,1]\n",
    "\n",
    "print(a.index(4))\n",
    "#print(a.index(10))\n",
    "print(a.index(1))"
   ]
  },
  {
   "cell_type": "code",
   "execution_count": 35,
   "metadata": {},
   "outputs": [
    {
     "name": "stdout",
     "output_type": "stream",
     "text": [
      "1\n",
      "3\n"
     ]
    }
   ],
   "source": [
    "#count\n",
    "\n",
    "a = [1,2,3,3,3,3,2,2,2,4,4,4,5]\n",
    "print(a.count(1))\n",
    "print(a.count(4))"
   ]
  },
  {
   "cell_type": "code",
   "execution_count": 36,
   "metadata": {},
   "outputs": [
    {
     "name": "stdout",
     "output_type": "stream",
     "text": [
      "39\n",
      "4\n",
      "9\n"
     ]
    }
   ],
   "source": [
    "#sum/min/max\n",
    "\n",
    "a = [6,7,5,4,8,9]\n",
    "print(sum(a))\n",
    "print(min(a))\n",
    "print(max(a))"
   ]
  },
  {
   "cell_type": "code",
   "execution_count": 41,
   "metadata": {},
   "outputs": [
    {
     "name": "stdout",
     "output_type": "stream",
     "text": [
      "[0, 2, 3, 4, 5, 6, 6, 8]\n",
      "[0, 2, 3, 8, 6, 4, 6, 5]\n"
     ]
    }
   ],
   "source": [
    "#sort/reverse\n",
    "\n",
    "a = [5,6,4,6,8,3,2,0]\n",
    "\n",
    "#a.sort()\n",
    "#print(a)\n",
    "a.sort(reverse=False) #descending order\n",
    "print(a)\n",
    "\n",
    "a = [5,6,4,6,8,3,2,0]\n",
    "a.reverse()\n",
    "print(a)"
   ]
  },
  {
   "cell_type": "code",
   "execution_count": 42,
   "metadata": {},
   "outputs": [
    {
     "name": "stdout",
     "output_type": "stream",
     "text": [
      "[]\n"
     ]
    }
   ],
   "source": [
    "#clear\n",
    "\n",
    "a = [1,2,4,5,0,-2]\n",
    "\n",
    "a.clear()\n",
    "print(a)"
   ]
  },
  {
   "cell_type": "code",
   "execution_count": 46,
   "metadata": {},
   "outputs": [
    {
     "name": "stdout",
     "output_type": "stream",
     "text": [
      "[1, 2, 3]\n"
     ]
    },
    {
     "ename": "NameError",
     "evalue": "name 'b' is not defined",
     "output_type": "error",
     "traceback": [
      "\u001b[1;31m---------------------------------------------------------------------------\u001b[0m",
      "\u001b[1;31mNameError\u001b[0m                                 Traceback (most recent call last)",
      "\u001b[1;32m<ipython-input-46-306d56c51953>\u001b[0m in \u001b[0;36m<module>\u001b[1;34m\u001b[0m\n\u001b[0;32m     10\u001b[0m \u001b[0mb\u001b[0m \u001b[1;33m=\u001b[0m \u001b[1;33m[\u001b[0m\u001b[1;36m3\u001b[0m\u001b[1;33m,\u001b[0m\u001b[1;36m4\u001b[0m\u001b[1;33m,\u001b[0m\u001b[1;36m5\u001b[0m\u001b[1;33m,\u001b[0m\u001b[1;36m2\u001b[0m\u001b[1;33m]\u001b[0m\u001b[1;33m\u001b[0m\u001b[1;33m\u001b[0m\u001b[0m\n\u001b[0;32m     11\u001b[0m \u001b[1;32mdel\u001b[0m \u001b[0mb\u001b[0m\u001b[1;33m\u001b[0m\u001b[1;33m\u001b[0m\u001b[0m\n\u001b[1;32m---> 12\u001b[1;33m \u001b[0mprint\u001b[0m\u001b[1;33m(\u001b[0m\u001b[0mb\u001b[0m\u001b[1;33m)\u001b[0m\u001b[1;33m\u001b[0m\u001b[1;33m\u001b[0m\u001b[0m\n\u001b[0m",
      "\u001b[1;31mNameError\u001b[0m: name 'b' is not defined"
     ]
    }
   ],
   "source": [
    "#del\n",
    "\n",
    "#scen1\n",
    "a = [1,2,3,4,0,9,0]\n",
    "del a[3:]\n",
    "print(a)\n",
    "\n",
    "#scen2\n",
    "\n",
    "b = [3,4,5,2]\n",
    "del b\n",
    "print(b)"
   ]
  },
  {
   "cell_type": "code",
   "execution_count": 51,
   "metadata": {},
   "outputs": [
    {
     "name": "stdout",
     "output_type": "stream",
     "text": [
      "Shallow copy\n",
      "[4, 5, 6, 7, 8, 10]\n",
      "1949561006728\n",
      "[4, 5, 6, 7, 8, 10]\n",
      "1949561006728\n",
      "[4, 5, 6, 100, 8, 10]\n",
      "1949561006728\n",
      "[4, 5, 6, 100, 8, 10]\n",
      "1949561006728\n",
      "Deep copy\n",
      "[4, 5, 6, 7, 8, 10]\n",
      "1949555166664\n",
      "[4, 5, 6, 7, 8, 10]\n",
      "1949555366920\n",
      "[4, 5, 6, 100, 8, 10]\n",
      "1949555166664\n",
      "[4, 5, 6, 7, 8, 10]\n",
      "1949555366920\n"
     ]
    }
   ],
   "source": [
    "#copy\n",
    "\n",
    "#deep copy / shallow copy\n",
    "#shallow copy\n",
    "\n",
    "print(\"Shallow copy\")\n",
    "\n",
    "a = [4,5,6,7,8,10]\n",
    "b = a\n",
    "print(a)\n",
    "print(id(a))\n",
    "print(b)\n",
    "print(id(b))\n",
    "\n",
    "a[3] = 100\n",
    "print(a)\n",
    "print(id(a))\n",
    "print(b)\n",
    "print(id(b))\n",
    "\n",
    "\n",
    "print(\"Deep copy\")\n",
    "#deep copy\n",
    "\n",
    "a = [4,5,6,7,8,10]\n",
    "b = a.copy()\n",
    "print(a)\n",
    "print(id(a))\n",
    "print(b)\n",
    "print(id(b))\n",
    "\n",
    "a[3] = 100\n",
    "print(a)\n",
    "print(id(a))\n",
    "print(b)\n",
    "print(id(b))"
   ]
  },
  {
   "cell_type": "code",
   "execution_count": 52,
   "metadata": {},
   "outputs": [
    {
     "name": "stdout",
     "output_type": "stream",
     "text": [
      "5\n"
     ]
    }
   ],
   "source": [
    "a = [1,2,3,4,5,4,5,6,6,10]\n",
    "\n",
    "print(len(a))"
   ]
  },
  {
   "cell_type": "code",
   "execution_count": null,
   "metadata": {},
   "outputs": [],
   "source": []
  }
 ],
 "metadata": {
  "kernelspec": {
   "display_name": "Python 3",
   "language": "python",
   "name": "python3"
  },
  "language_info": {
   "codemirror_mode": {
    "name": "ipython",
    "version": 3
   },
   "file_extension": ".py",
   "mimetype": "text/x-python",
   "name": "python",
   "nbconvert_exporter": "python",
   "pygments_lexer": "ipython3",
   "version": "3.7.6"
  }
 },
 "nbformat": 4,
 "nbformat_minor": 4
}
