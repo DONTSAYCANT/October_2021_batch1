{
 "cells": [
  {
   "cell_type": "code",
   "execution_count": null,
   "metadata": {},
   "outputs": [],
   "source": [
    "#loops ?\n",
    "\n",
    "#Range\n",
    "#while\n",
    "\n",
    "    condition based\n",
    "\n",
    "#for\n",
    "\n",
    "    with range\n",
    "    with data structure\n",
    "\n",
    "    \n",
    "#break/continue/pass\n",
    "\n",
    "#for else\n",
    "#while else\n",
    "\n"
   ]
  },
  {
   "cell_type": "code",
   "execution_count": 4,
   "metadata": {},
   "outputs": [
    {
     "name": "stdout",
     "output_type": "stream",
     "text": [
      "hello\n",
      "hello\n",
      "hello\n",
      "hello\n",
      "hello\n",
      "hello\n",
      "hello\n",
      "hello\n",
      "hello\n",
      "hello\n"
     ]
    }
   ],
   "source": [
    "#Loops ?\n",
    "\n",
    "for i in range(10):\n",
    "    print(\"hello\")\n"
   ]
  },
  {
   "cell_type": "code",
   "execution_count": 1,
   "metadata": {},
   "outputs": [
    {
     "name": "stdout",
     "output_type": "stream",
     "text": [
      "hello\n",
      "hello\n",
      "hello\n",
      "hello\n",
      "hello\n",
      "hello\n",
      "hello\n",
      "hello\n",
      "hello\n",
      "hello\n"
     ]
    }
   ],
   "source": [
    "print(\"hello\")\n",
    "print(\"hello\")\n",
    "print(\"hello\")\n",
    "print(\"hello\")\n",
    "print(\"hello\")\n",
    "print(\"hello\")\n",
    "print(\"hello\")\n",
    "print(\"hello\")\n",
    "print(\"hello\")\n",
    "print(\"hello\")"
   ]
  },
  {
   "cell_type": "code",
   "execution_count": 5,
   "metadata": {},
   "outputs": [
    {
     "name": "stdout",
     "output_type": "stream",
     "text": [
      "[1, 2, 3, 4, 5]\n"
     ]
    }
   ],
   "source": [
    "#range\n",
    "\n",
    "Li1 = [1,2,3,4,5,6,7,8,9]\n",
    "\n",
    "print(Li1)"
   ]
  },
  {
   "cell_type": "code",
   "execution_count": 8,
   "metadata": {},
   "outputs": [
    {
     "name": "stdout",
     "output_type": "stream",
     "text": [
      "[0, 1, 2, 3, 4]\n"
     ]
    }
   ],
   "source": [
    "print(list(range(5)))"
   ]
  },
  {
   "cell_type": "code",
   "execution_count": 9,
   "metadata": {},
   "outputs": [
    {
     "name": "stdout",
     "output_type": "stream",
     "text": [
      "0\n",
      "1\n",
      "2\n",
      "3\n",
      "4\n"
     ]
    }
   ],
   "source": [
    "for i in range(5):\n",
    "    print(i)"
   ]
  },
  {
   "cell_type": "code",
   "execution_count": 13,
   "metadata": {},
   "outputs": [
    {
     "name": "stdout",
     "output_type": "stream",
     "text": [
      "[0, 1, 2, 3, 4]\n",
      "[2, 3, 4, 5, 6, 7, 8, 9]\n",
      "[1, 11, 21, 31, 41, 51, 61, 71, 81, 91]\n",
      "[100, 92, 84, 76, 68, 60, 52, 44, 36, 28]\n",
      "[]\n"
     ]
    }
   ],
   "source": [
    "print(list(range(5)))\n",
    "print(list(range(2,10)))\n",
    "print(list(range(1,100,10)))\n",
    "print(list(range(100,20,-8)))"
   ]
  },
  {
   "cell_type": "code",
   "execution_count": 14,
   "metadata": {},
   "outputs": [
    {
     "name": "stdout",
     "output_type": "stream",
     "text": [
      "hello number:  0\n",
      "hello number:  1\n",
      "hello number:  2\n",
      "hello number:  3\n",
      "hello number:  4\n",
      "hello number:  5\n",
      "hello number:  6\n",
      "hello number:  7\n",
      "hello number:  8\n",
      "hello number:  9\n"
     ]
    }
   ],
   "source": [
    "#for loop\n",
    "\n",
    "for i in range(10):\n",
    "    print(\"hello number: \",i)"
   ]
  },
  {
   "cell_type": "code",
   "execution_count": 15,
   "metadata": {},
   "outputs": [
    {
     "name": "stdout",
     "output_type": "stream",
     "text": [
      "python\n",
      "go\n",
      "cpp\n",
      "groovy\n",
      "perl\n"
     ]
    }
   ],
   "source": [
    "Li1 = [\"python\", \"go\", \"cpp\", \"groovy\", \"perl\"]\n",
    "\n",
    "for i in Li1:\n",
    "    print(i)"
   ]
  },
  {
   "cell_type": "code",
   "execution_count": 17,
   "metadata": {},
   "outputs": [
    {
     "name": "stdout",
     "output_type": "stream",
     "text": [
      "1\n",
      "2\n",
      "3\n",
      "0\n",
      "6\n",
      "2\n",
      "1\n",
      "0\n",
      "hello\n"
     ]
    }
   ],
   "source": [
    "tup1 = (1,2,3,0,6,2,1,0)\n",
    "\n",
    "for i in tup1:\n",
    "    print(i)\n",
    "print(\"hello\")"
   ]
  },
  {
   "cell_type": "code",
   "execution_count": null,
   "metadata": {},
   "outputs": [],
   "source": [
    "for <temp_var> in Data:\n",
    "    print(code)"
   ]
  },
  {
   "cell_type": "code",
   "execution_count": 19,
   "metadata": {},
   "outputs": [
    {
     "name": "stdout",
     "output_type": "stream",
     "text": [
      "0\n",
      "1\n",
      "2\n",
      "4\n",
      "5\n",
      "6\n",
      "-3\n",
      "-2\n"
     ]
    }
   ],
   "source": [
    "se1 = {1,2,4,0,5,6,0,-2,-3}\n",
    "\n",
    "for i in se1:\n",
    "    print(i)"
   ]
  },
  {
   "cell_type": "code",
   "execution_count": 20,
   "metadata": {},
   "outputs": [
    {
     "name": "stdout",
     "output_type": "stream",
     "text": [
      "1\n",
      "2\n",
      "3\n",
      "4\n"
     ]
    }
   ],
   "source": [
    "dict1 = {1:10, 2:20, 3:30, 4:40}\n",
    "\n",
    "for i in dict1:\n",
    "    print(i)"
   ]
  },
  {
   "cell_type": "code",
   "execution_count": 21,
   "metadata": {},
   "outputs": [
    {
     "name": "stdout",
     "output_type": "stream",
     "text": [
      "1\n",
      "2\n",
      "3\n",
      "4\n"
     ]
    }
   ],
   "source": [
    "dict1 = {1:10, 2:20, 3:30, 4:40}\n",
    "\n",
    "for i in dict1.keys():\n",
    "    print(i)"
   ]
  },
  {
   "cell_type": "code",
   "execution_count": 22,
   "metadata": {},
   "outputs": [
    {
     "name": "stdout",
     "output_type": "stream",
     "text": [
      "10\n",
      "20\n",
      "30\n",
      "40\n"
     ]
    }
   ],
   "source": [
    "dict1 = {1:10, 2:20, 3:30, 4:40}\n",
    "\n",
    "for i in dict1.values():\n",
    "    print(i)"
   ]
  },
  {
   "cell_type": "code",
   "execution_count": 24,
   "metadata": {},
   "outputs": [
    {
     "name": "stdout",
     "output_type": "stream",
     "text": [
      "(1, 10)\n",
      "1\n",
      "10\n",
      "(2, 20)\n",
      "2\n",
      "20\n",
      "(3, 30)\n",
      "3\n",
      "30\n",
      "(4, 40)\n",
      "4\n",
      "40\n"
     ]
    }
   ],
   "source": [
    "dict1 = {1:10, 2:20, 3:30, 4:40}\n",
    "\n",
    "for i in dict1.items():\n",
    "    print(i)\n",
    "    print(i[0])\n",
    "    print(i[1])"
   ]
  },
  {
   "cell_type": "code",
   "execution_count": 25,
   "metadata": {},
   "outputs": [
    {
     "name": "stdout",
     "output_type": "stream",
     "text": [
      "10\n",
      "11\n",
      "12\n",
      "13\n",
      "14\n",
      "15\n",
      "16\n",
      "17\n",
      "18\n",
      "19\n",
      "outside of while\n"
     ]
    }
   ],
   "source": [
    "#while loop\n",
    "\n",
    "#condition based \n",
    "\n",
    "var = 10\n",
    "\n",
    "while var < 20:\n",
    "    print(var)\n",
    "    var = var + 1\n",
    "print(\"outside of while\")"
   ]
  },
  {
   "cell_type": "code",
   "execution_count": 27,
   "metadata": {},
   "outputs": [
    {
     "name": "stdout",
     "output_type": "stream",
     "text": [
      "11\n",
      "12\n",
      "13\n",
      "14\n",
      "Outside while\n"
     ]
    }
   ],
   "source": [
    "Li1 = [11,12,13,14,20,21]\n",
    "\n",
    "\n",
    "index = 0\n",
    "\n",
    "while True:\n",
    "    print(Li1[index])\n",
    "    index = index + 1\n",
    "    if Li1[index] == 20:\n",
    "        break\n",
    "print(\"Outside while\")\n",
    "    "
   ]
  },
  {
   "cell_type": "code",
   "execution_count": 28,
   "metadata": {},
   "outputs": [
    {
     "name": "stdout",
     "output_type": "stream",
     "text": [
      "The current iterated value is 10\n",
      "The current iterated value is 11\n",
      "The current iterated value is 12\n",
      "The current iterated value is 13\n",
      "The current iterated value is 14\n",
      "outside of loop\n"
     ]
    }
   ],
   "source": [
    "for i in range(10,20):\n",
    "    if i % 15 == 0:\n",
    "        break\n",
    "    print(\"The current iterated value is\", i)\n",
    "print(\"outside of loop\")"
   ]
  },
  {
   "cell_type": "code",
   "execution_count": 29,
   "metadata": {},
   "outputs": [
    {
     "name": "stdout",
     "output_type": "stream",
     "text": [
      "The current iterated value is 10\n",
      "The current iterated value is 11\n",
      "The current iterated value is 12\n",
      "The current iterated value is 13\n",
      "The current iterated value is 14\n",
      "The current iterated value is 16\n",
      "The current iterated value is 17\n",
      "The current iterated value is 18\n",
      "The current iterated value is 19\n",
      "outside of loop\n"
     ]
    }
   ],
   "source": [
    "for i in range(10,20):\n",
    "    if i % 15 == 0:\n",
    "        continue\n",
    "    print(\"The current iterated value is\", i)\n",
    "print(\"outside of loop\")"
   ]
  },
  {
   "cell_type": "code",
   "execution_count": 30,
   "metadata": {},
   "outputs": [
    {
     "name": "stdout",
     "output_type": "stream",
     "text": [
      "The current iterated value is 10\n",
      "The current iterated value is 11\n",
      "The current iterated value is 12\n",
      "The current iterated value is 13\n",
      "The current iterated value is 14\n",
      "The current iterated value is 15\n",
      "The current iterated value is 16\n",
      "The current iterated value is 17\n",
      "The current iterated value is 18\n",
      "The current iterated value is 19\n",
      "outside of loop\n"
     ]
    }
   ],
   "source": [
    "for i in range(10,20):\n",
    "    if i % 15 == 0:\n",
    "        pass\n",
    "    print(\"The current iterated value is\", i)\n",
    "print(\"outside of loop\")"
   ]
  },
  {
   "cell_type": "code",
   "execution_count": null,
   "metadata": {},
   "outputs": [],
   "source": [
    "if condition:\n",
    "    pass"
   ]
  },
  {
   "cell_type": "code",
   "execution_count": 5,
   "metadata": {},
   "outputs": [
    {
     "name": "stdout",
     "output_type": "stream",
     "text": [
      "19\n",
      "18\n",
      "outside of while\n"
     ]
    }
   ],
   "source": [
    "a = 20\n",
    "\n",
    "while a > 10:\n",
    "    a = a - 1\n",
    "    if a == 15 or a== 17:\n",
    "        break\n",
    "    print(a)\n",
    "print(\"outside of while\")\n",
    "\n",
    "#and or"
   ]
  },
  {
   "cell_type": "code",
   "execution_count": 6,
   "metadata": {},
   "outputs": [
    {
     "name": "stdout",
     "output_type": "stream",
     "text": [
      "10\n",
      "11\n",
      "12\n",
      "13\n",
      "14\n",
      "15\n",
      "16\n",
      "17\n",
      "18\n",
      "19\n",
      "else condition\n"
     ]
    }
   ],
   "source": [
    "#for else\n",
    "#while else\n",
    "\n",
    "for i in range(10,20):\n",
    "    print(i)\n",
    "    if i == 25:\n",
    "        break\n",
    "else:\n",
    "    print(\"else condition\")\n",
    "    \n",
    "#break else ===> if else"
   ]
  },
  {
   "cell_type": "code",
   "execution_count": 7,
   "metadata": {},
   "outputs": [
    {
     "name": "stdout",
     "output_type": "stream",
     "text": [
      "10\n",
      "11\n",
      "12\n",
      "13\n",
      "14\n",
      "15\n"
     ]
    }
   ],
   "source": [
    "for i in range(10,20):\n",
    "    print(i)\n",
    "    if i == 15:\n",
    "        break\n",
    "else:\n",
    "    print(\"else condition\")"
   ]
  },
  {
   "cell_type": "code",
   "execution_count": null,
   "metadata": {},
   "outputs": [],
   "source": []
  }
 ],
 "metadata": {
  "kernelspec": {
   "display_name": "Python 3",
   "language": "python",
   "name": "python3"
  },
  "language_info": {
   "codemirror_mode": {
    "name": "ipython",
    "version": 3
   },
   "file_extension": ".py",
   "mimetype": "text/x-python",
   "name": "python",
   "nbconvert_exporter": "python",
   "pygments_lexer": "ipython3",
   "version": "3.7.6"
  }
 },
 "nbformat": 4,
 "nbformat_minor": 4
}
